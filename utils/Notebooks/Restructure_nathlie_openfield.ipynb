{
 "cells": [
  {
   "cell_type": "markdown",
   "id": "4a972aa7",
   "metadata": {},
   "source": [
    "## Init"
   ]
  },
  {
   "cell_type": "code",
   "execution_count": 104,
   "id": "b0467c63-9d3b-4a13-be42-eaadce8c8073",
   "metadata": {},
   "outputs": [
    {
     "data": {
      "application/javascript": "IPython.notebook.set_autosave_interval(180000)"
     },
     "metadata": {},
     "output_type": "display_data"
    },
    {
     "name": "stdout",
     "output_type": "stream",
     "text": [
      "Autosaving every 180 seconds\n",
      "The autoreload extension is already loaded. To reload it, use:\n",
      "  %reload_ext autoreload\n"
     ]
    }
   ],
   "source": [
    "import yaml\n",
    "import os\n",
    "\n",
    "%matplotlib inline\n",
    "#%matplotlib tk\n",
    "%autosave 180\n",
    "%load_ext autoreload\n",
    "%autoreload 2\n",
    "\n",
    "from yaml_creator import *\n",
    "\n",
    "animal_summary_fname = \"animal_summary.yaml\""
   ]
  },
  {
   "cell_type": "markdown",
   "id": "140b31ea",
   "metadata": {},
   "source": [
    "# Re-structuring the data"
   ]
  },
  {
   "cell_type": "code",
   "execution_count": null,
   "id": "27598350",
   "metadata": {},
   "outputs": [],
   "source": [
    "from restructure import restructure_animal_dirs\n",
    "\n",
    "root_dir = \"D:\\\\Experiments\"\n",
    "experimentalist = \"Nathalie\"\n",
    "paradigm = \"OpenFieldDynamics_2\"\n",
    "animal_root_dir = os.path.join(root_dir, experimentalist, paradigm)\n",
    "\n",
    "path = animal_root_dir + \"_2\"  # Y:\\Users\\Sergej\\Nathalie\\OpenFieldDynamics\"\n",
    "\n",
    "neural_related = r\"[A-Za-z0-9 ()_-]*binarized_traces[A-Za-z0-9 ()_-]*.npz$\"\n",
    "location_related = (\n",
    "    \"^{animal_id}_{date}_{behavior_setup}_{task}-ACQDLC_resnet50[A-Za-z0-9 ()_-]*\"\n",
    ")\n",
    "\n",
    "restructure_animal_dirs(\n",
    "    path=init_path_checks(path, check=\"dir\"),\n",
    "    photon_type=\"1p\",\n",
    "    rec_output=\"inscopix\",\n",
    "    behavior_rec_type=\"openfield\",\n",
    "    neural_related=neural_related,\n",
    "    location_related=location_related,\n",
    ")"
   ]
  }
 ],
 "metadata": {
  "kernelspec": {
   "display_name": "cebra2",
   "language": "python",
   "name": "python3"
  },
  "language_info": {
   "codemirror_mode": {
    "name": "ipython",
    "version": 3
   },
   "file_extension": ".py",
   "mimetype": "text/x-python",
   "name": "python",
   "nbconvert_exporter": "python",
   "pygments_lexer": "ipython3",
   "version": "3.8.17"
  }
 },
 "nbformat": 4,
 "nbformat_minor": 5
}
