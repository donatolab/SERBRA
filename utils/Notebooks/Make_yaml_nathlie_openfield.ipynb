{
 "cells": [
  {
   "cell_type": "markdown",
   "id": "4a972aa7",
   "metadata": {},
   "source": [
    "## Init"
   ]
  },
  {
   "cell_type": "code",
   "execution_count": 1,
   "id": "b0467c63-9d3b-4a13-be42-eaadce8c8073",
   "metadata": {},
   "outputs": [
    {
     "data": {
      "application/javascript": "IPython.notebook.set_autosave_interval(180000)"
     },
     "metadata": {},
     "output_type": "display_data"
    },
    {
     "name": "stdout",
     "output_type": "stream",
     "text": [
      "Autosaving every 180 seconds\n"
     ]
    },
    {
     "name": "stderr",
     "output_type": "stream",
     "text": [
      "c:\\Users\\mauls\\miniconda3\\envs\\neo_cebra\\lib\\site-packages\\numba\\core\\decorators.py:246: RuntimeWarning: nopython is set for njit and is ignored\n",
      "  warnings.warn('nopython is set for njit and is ignored', RuntimeWarning)\n"
     ]
    }
   ],
   "source": [
    "import yaml\n",
    "import os\n",
    "import sys\n",
    "from pathlib import Path\n",
    "to_utils_path = Path(os.getcwd()).parent\n",
    "sys.path.append(str(to_utils_path))\n",
    "to_core_path = Path(os.getcwd()).parent.parent.joinpath(\"core\")\n",
    "sys.path.append(str(to_core_path))\n",
    "\n",
    "%matplotlib inline\n",
    "#%matplotlib tk\n",
    "%autosave 180\n",
    "%load_ext autoreload\n",
    "%autoreload 2\n",
    "\n",
    "from yaml_creator import *"
   ]
  },
  {
   "cell_type": "markdown",
   "id": "0b4f811b",
   "metadata": {},
   "source": [
    "## Spreadsheet Settings"
   ]
  },
  {
   "cell_type": "code",
   "execution_count": 4,
   "id": "40b1ea54",
   "metadata": {},
   "outputs": [],
   "source": [
    "# Re-structuring the data\n",
    "root_dir = \"D:\\\\Experiments\"\n",
    "experimentalist = \"Nathalie\"\n",
    "paradigm = \"OpenFieldDynamics_2\"\n",
    "animal_root_dir = os.path.join(root_dir, experimentalist, paradigm)\n",
    "path = Path(animal_root_dir)\n",
    "e_animal_comment = {\n",
    "    \"DON-007021\": \"all sessions usefull (caution: animal explored little in sessions FS12, FS16, FS18)\",\n",
    "    \"DON-007050\": \"all sessions usefull (caution: imaging FOV was out of focus during session NS3)\",\n",
    "    \"DON-007369\": \"only use sessions FS7 till FS12 to look at the effect of experience on a familiar map\",\n",
    "    \"DON-007416\": \"all sessions usefull\",\n",
    "    \"DON-007417\": \"all sessions usefull (caution: session NS8 is missing due to recording error)\",\n",
    "    \"DON-007513\": \"all sessions usefull\",\n",
    "    \"DON-018116\": \"all sessions usefull\",\n",
    "    \"DON-018154\": \"all sessions usefull (caution: focus of miniscope shifted during session NS3)\",\n",
    "    \"DON-020762\": \"use only use sessions FS1 till FS9 to look at spatial map formation in naïve animals as the mouse didn't learn\",\n",
    "}\n",
    "\n",
    "control_animal_comment = {\n",
    "    \"DON-014515\": \"all sessions usefull\",\n",
    "    \"DON-015128\": \"all sessions usefull\",\n",
    "    \"DON-016562\": \"all sessions usefull (caution: animal explored little in session FS2 and imaging FOV was out of focus in FS14, NS4, NS5)\",\n",
    "    \"DON-016584\": \"all sessions usefull (caution: animal explored little in session FS16)\",\n",
    "    \"DON-018115\": \"all sessions usefull\",\n",
    "    \"DON-020765\": \"all sessions usefull\",\n",
    "}"
   ]
  },
  {
   "cell_type": "code",
   "execution_count": 8,
   "id": "32aa832c",
   "metadata": {},
   "outputs": [
    {
     "name": "stderr",
     "output_type": "stream",
     "text": [
      "animal folders:  47%|████▋     | 7/15 [00:00<00:00, 68.62it/s]"
     ]
    },
    {
     "name": "stdout",
     "output_type": "stream",
     "text": [
      "Unknown task name: models.\n"
     ]
    },
    {
     "name": "stderr",
     "output_type": "stream",
     "text": [
      "animal folders: 100%|██████████| 15/15 [00:00<00:00, 69.76it/s]\n"
     ]
    }
   ],
   "source": [
    "from restructure import forbidden_names\n",
    "from pathlib import Path\n",
    "from datetime import datetime\n",
    "from Helper import *\n",
    "from tqdm import tqdm\n",
    "\n",
    "folder_name_strcture = {\n",
    "    \"animal\": r\"^DON-\\d{6,8}$\",\n",
    "    \"date\": r\"^\\d{8}$\",\n",
    "}\n",
    "\n",
    "animal_dict = {\n",
    "    \"animal_id\": None,\n",
    "    \"dob\": 19990101,\n",
    "    \"expt_pipeline\": \"OpenFieldDynamics\",\n",
    "    \"condition\": None,\n",
    "    \"comment\": None,\n",
    "}\n",
    "\n",
    "neural_metadata = {\n",
    "    \"method\": \"1P\",\n",
    "    \"area\": \"CA3\",\n",
    "    \"setup\": \"inscopix\",\n",
    "    \"preprocessing\": \"opexebo\",\n",
    "    \"processing\": \"cabincorr\",\n",
    "    \"fps\": 20,\n",
    "}\n",
    "behavior_metadata = {\n",
    "    \"setup\": \"openfield\",\n",
    "    \"preprocessing\": \"cam\",\n",
    "    \"binning_size\": 0.05,  # meters #default is 0.05 for 2D and 0.01 for 1D\n",
    "    \"stimulus_type\": None,\n",
    "    \"environment_dimensions\": [0.80, 0.80],  # meters\n",
    "    \"pixel_per_meter\": None,  # 1.35625 m per pixel\n",
    "    # for NS sessions, the pixel_per_meter is 13562.\n",
    "    # for FS sessions, the pixel_per_meter is 1547.8\n",
    "}\n",
    "\n",
    "task_dict = {\n",
    "    \"neural_metadata\": neural_metadata,\n",
    "    \"behavior_metadata\": behavior_metadata,\n",
    "}\n",
    "\n",
    "date_dict = {\"tasks_infos\": {\"task_name\": task_dict}}\n",
    "\n",
    "animal_folders = search_filedir(\n",
    "    path=path,\n",
    "    include_regex=folder_name_strcture[\"animal\"],\n",
    "    type=\"dir\",\n",
    ")\n",
    "for animal_folder in tqdm(animal_folders, desc=\"animal folders\"):\n",
    "    animal_id = animal_folder.name\n",
    "    animal_dir = path.joinpath(animal_id)\n",
    "    if animal_id in e_animal_comment.keys():\n",
    "        animal_dict[\"comment\"] = e_animal_comment[animal_id]\n",
    "        animal_dict[\"condition\"] = \"experimental\"\n",
    "    elif animal_id in control_animal_comment.keys():\n",
    "        animal_dict[\"comment\"] = control_animal_comment[animal_id]\n",
    "        animal_dict[\"condition\"] = \"control\"\n",
    "    else:\n",
    "        animal_dict[\"comment\"] = \"unknown animal\"\n",
    "\n",
    "    animal_dict[\"animal_id\"] = animal_id\n",
    "\n",
    "    date_folders = search_filedir(\n",
    "        path=animal_dir,\n",
    "        include_regex=folder_name_strcture[\"date\"],\n",
    "        type=\"dir\",\n",
    "    )\n",
    "    for date_folder in date_folders:\n",
    "        date = date_folder.name\n",
    "        date_dir = animal_dir.joinpath(date)\n",
    "        date_dict = {\n",
    "            \"date\": date,\n",
    "            \"tasks_infos\": {},\n",
    "        }\n",
    "\n",
    "        task_folders = search_filedir(\n",
    "            path=date_dir,\n",
    "            exclude_regex=forbidden_names,\n",
    "            type=\"dir\",\n",
    "        )\n",
    "\n",
    "        for task_folder in task_folders:\n",
    "            task_name = task_folder.name\n",
    "            task_dir = date_dir.joinpath(task_name)\n",
    "\n",
    "            if \"NS\" in task_name:\n",
    "                task_dict[\"behavior_metadata\"][\"pixel_per_meter\"] = 1356.25\n",
    "                task_dict[\"behavior_metadata\"][\"stimulus_type\"] = \"novel\"\n",
    "            elif \"FS\" in task_name:\n",
    "                task_dict[\"behavior_metadata\"][\"pixel_per_meter\"] = 1547.8\n",
    "                task_dict[\"behavior_metadata\"][\"stimulus_type\"] = \"familiar\"\n",
    "            else:\n",
    "                print(f\"Unknown task name: {task_name}.\")\n",
    "                continue\n",
    "\n",
    "            # Add the task metadata to the date_dict\n",
    "            date_dict[\"tasks_infos\"][task_name] = task_dict\n",
    "\n",
    "        # save the date_dict to a yaml file\n",
    "        with open(date_dir.joinpath(f\"{date}.yaml\"), \"w\") as f:\n",
    "            yaml.dump(date_dict, f, default_flow_style=False, sort_keys=False)\n",
    "\n",
    "    # save the animal_dict to a yaml file\n",
    "    with open(animal_dir.joinpath(f\"{animal_id}.yaml\"), \"w\") as f:\n",
    "        yaml.dump(animal_dict, f, default_flow_style=False, sort_keys=False)"
   ]
  }
 ],
 "metadata": {
  "kernelspec": {
   "display_name": "neo_cebra",
   "language": "python",
   "name": "python3"
  },
  "language_info": {
   "codemirror_mode": {
    "name": "ipython",
    "version": 3
   },
   "file_extension": ".py",
   "mimetype": "text/x-python",
   "name": "python",
   "nbconvert_exporter": "python",
   "pygments_lexer": "ipython3",
   "version": "3.10.0"
  }
 },
 "nbformat": 4,
 "nbformat_minor": 5
}
