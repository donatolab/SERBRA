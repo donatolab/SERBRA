{
 "cells": [
  {
   "cell_type": "code",
   "execution_count": 1,
   "metadata": {},
   "outputs": [],
   "source": [
    "import sys\n",
    "import os\n",
    "import re\n",
    "module_path = os.path.abspath(os.path.join('../'))\n",
    "sys.path.append(module_path)\n",
    "module_path = os.path.abspath(os.path.join('../../'))\n",
    "sys.path.append(module_path)\n",
    "from manifolds.donlabtools.utils.wheel import wheel"
   ]
  },
  {
   "cell_type": "code",
   "execution_count": 2,
   "metadata": {},
   "outputs": [
    {
     "name": "stdout",
     "output_type": "stream",
     "text": [
      "warning: implicit conversion from numeric to char\n",
      "warning: called from\n",
      "    constructNPYheader at line 86 column 12\n",
      "    writeNPY at line 16 column 8\n",
      "    process_wheel at line 19 column 1\n",
      "    _pyeval at line 48 column 11\n",
      "\n",
      "warning: implicit conversion from numeric to char\n",
      "warning: called from\n",
      "    constructNPYheader at line 86 column 12\n",
      "    writeNPY at line 16 column 8\n",
      "    process_wheel at line 24 column 1\n",
      "    _pyeval at line 48 column 11\n",
      "\n",
      "non-zero rotary encoder vals:  [      38       83      127 ... 12281832 12282480 12299763]\n"
     ]
    },
    {
     "name": "stderr",
     "output_type": "stream",
     "text": [
      "100%|██████████| 250683/250683 [00:00<00:00, 730854.87it/s]\n"
     ]
    },
    {
     "name": "stdout",
     "output_type": "stream",
     "text": [
      "vel_times:  [      38       83      127 ... 12281832 12282480 12299763]\n"
     ]
    },
    {
     "name": "stderr",
     "output_type": "stream",
     "text": [
      "refilling stationary times: 100%|██████████| 250682/250682 [00:00<00:00, 2584366.32it/s]\n"
     ]
    },
    {
     "name": "stdout",
     "output_type": "stream",
     "text": [
      "vel times:  (250728,)\n",
      "vel values:  (250728,) [0.33069396 0.27925268 0.28559932 ... 0.         0.         0.        ]\n",
      "self.track.galvo_triggers.times:  [  118985   119308   119631 ... 12121865 12122188 12122511]\n",
      "vel_times: [      38       83      127 ... 12287480 12292480 12297480]\n",
      "warning: implicit conversion from numeric to char\n",
      "warning: called from\n",
      "    constructNPYheader at line 86 column 12\n",
      "    writeNPY at line 16 column 8\n",
      "    process_wheel at line 19 column 1\n",
      "    _pyeval at line 48 column 11\n",
      "\n",
      "warning: implicit conversion from numeric to char\n",
      "warning: called from\n",
      "    constructNPYheader at line 86 column 12\n",
      "    writeNPY at line 16 column 8\n",
      "    process_wheel at line 24 column 1\n",
      "    _pyeval at line 48 column 11\n",
      "\n",
      "non-zero rotary encoder vals:  [ 4561630  4561923  6837609  6838032  6838857  6838980  6839440  6840303\n",
      "  6841005  6841418  6842104  6842441  6843067  6843381  6916401  6917873\n",
      "  7065302  7066098  7066484  7066854  7180633  7181340  7196608  7197095\n",
      "  7197571  7198126  7327447  7327666  7622425  7622886  7623456  7623693\n",
      "  7624105  7625010  7729838  7730161  7730870  7730965  7731534  7732310\n",
      "  7732647  7733089  8017611  8017957  8018299  8018555  8119954  8120156\n",
      "  8120719  8121211  8121999  8122151  8224733  8224979  8238700  8239338\n",
      "  8239791  8240269  8240981  8241142  8375350  8375448  8376973  8377260\n",
      "  8511394  8511615  8528128  8528441  8529106  8529239  8529593  8530238\n",
      "  8632301  8632608  8969012  8969137  9316761  9317141  9492616  9492941\n",
      "  9493539  9493778 10388990 10389370 11679897 11680204 12276200 12276836\n",
      " 12278205 12280164 12281579 12281992 12282677 12283280 12284490 12284975\n",
      " 12285329 12285651 12285966 12286223 12286457 12286685 12286911 12287160\n",
      " 12287413 12287677 12288001 12288335 12288704 12289076 12289646 12290343\n",
      " 12290802 12291317 12291849 12292282 12292703 12293043 12293354 12293644\n",
      " 12293920 12294194 12294471 12294722 12294944 12295150 12295345 12295529\n",
      " 12295701 12295873 12296048 12296238 12296451 12296720 12297187 12298029\n",
      " 12298781 12299164 12299406 12299580 12299729 12299875]\n"
     ]
    },
    {
     "name": "stderr",
     "output_type": "stream",
     "text": [
      "100%|██████████| 142/142 [00:00<?, ?it/s]\n"
     ]
    },
    {
     "name": "stdout",
     "output_type": "stream",
     "text": [
      "vel_times:  [ 4561630  4561923  6837609  6838031  6838857  6838980  6839440  6840303\n",
      "  6841005  6841418  6842104  6842441  6843067  6843381  6916401  6917873\n",
      "  7065302  7066097  7066484  7066854  7180633  7181340  7196608  7197095\n",
      "  7197571  7198126  7327447  7327666  7622424  7622886  7623456  7623692\n",
      "  7624105  7625010  7729838  7730161  7730870  7730965  7731534  7732310\n",
      "  7732646  7733089  8017611  8017957  8018298  8018555  8119954  8120155\n",
      "  8120719  8121211  8121999  8122151  8224733  8224979  8238700  8239338\n",
      "  8239791  8240269  8240981  8241142  8375350  8375448  8376973  8377260\n",
      "  8511394  8511615  8528128  8528441  8529106  8529239  8529593  8530238\n",
      "  8632301  8632608  8969012  8969137  9316761  9317141  9492616  9492941\n",
      "  9493539  9493778 10388989 10389369 11679897 11680204 12276199 12276836\n",
      " 12278205 12280164 12281579 12281992 12282677 12283280 12284490 12284975\n",
      " 12285329 12285651 12285966 12286223 12286457 12286685 12286911 12287159\n",
      " 12287413 12287677 12288001 12288335 12288704 12289076 12289646 12290343\n",
      " 12290802 12291317 12291849 12292282 12292702 12293043 12293354 12293644\n",
      " 12293920 12294194 12294471 12294722 12294944 12295150 12295345 12295529\n",
      " 12295701 12295873 12296048 12296238 12296451 12296720 12297186 12298029\n",
      " 12298780 12299164 12299405 12299580 12299729 12299875]\n"
     ]
    },
    {
     "name": "stderr",
     "output_type": "stream",
     "text": [
      "refilling stationary times: 100%|██████████| 141/141 [00:00<?, ?it/s]"
     ]
    },
    {
     "name": "stdout",
     "output_type": "stream",
     "text": [
      "vel times:  (1646,)\n",
      "vel values:  (1646,) [ 2.75479829e-06 -4.28886376e-02  0.00000000e+00 ...  7.22205192e-02\n",
      "  8.43380615e-02  8.60710293e-02]\n",
      "self.track.galvo_triggers.times:  [  127568   127891   128214 ... 12130487 12130810 12131133]\n",
      "vel_times: [ 4561630  4561923  4566923 ... 12299580 12299729 12299875]\n"
     ]
    },
    {
     "name": "stderr",
     "output_type": "stream",
     "text": [
      "\n"
     ]
    },
    {
     "name": "stdout",
     "output_type": "stream",
     "text": [
      "warning: implicit conversion from numeric to char\n",
      "warning: called from\n",
      "    constructNPYheader at line 86 column 12\n",
      "    writeNPY at line 16 column 8\n",
      "    process_wheel at line 19 column 1\n",
      "    _pyeval at line 48 column 11\n",
      "\n",
      "warning: implicit conversion from numeric to char\n",
      "warning: called from\n",
      "    constructNPYheader at line 86 column 12\n",
      "    writeNPY at line 16 column 8\n",
      "    process_wheel at line 24 column 1\n",
      "    _pyeval at line 48 column 11\n",
      "\n",
      "non-zero rotary encoder vals:  [     417      718      929 ... 12299885 12299927 12299970]\n"
     ]
    },
    {
     "name": "stderr",
     "output_type": "stream",
     "text": [
      "100%|██████████| 223174/223174 [00:00<00:00, 699605.53it/s]\n"
     ]
    },
    {
     "name": "stdout",
     "output_type": "stream",
     "text": [
      "vel_times:  [     417      718      929 ... 12299885 12299927 12299970]\n"
     ]
    },
    {
     "name": "stderr",
     "output_type": "stream",
     "text": [
      "refilling stationary times: 100%|██████████| 223173/223173 [00:00<00:00, 2452480.52it/s]\n"
     ]
    },
    {
     "name": "stdout",
     "output_type": "stream",
     "text": [
      "vel times:  (223247,)\n",
      "vel values:  (223247,) [0.03013518 0.04174874 0.05955626 ... 0.29919931 0.29919931 0.29224119]\n",
      "self.track.galvo_triggers.times:  [   89101    89424    89747 ... 12092059 12092382 12092705]\n",
      "vel_times: [     417      718      929 ... 12299885 12299927 12299970]\n"
     ]
    }
   ],
   "source": [
    "#os.environ['OCTAVE_EXECUTABLE'] = r'C:\\Program Files\\GNU Octave\\Octave-8.3.0\\mingw64\\bin\\octave.exe'\n",
    "from oct2py import octave\n",
    "# convert matlab files to npy files\n",
    "octave.addpath(\"calcium/calcium/\")\n",
    "octave.addpath(\"npy-matlab\")\n",
    "fnames = [\"DON-014849_20230222_TRD-2P_S1-ACQ.mat\", \"DON-014849_20230222_TRD-2P_S2-ACQ.mat\", \"DON-014849_20230222_TRD-2P_S3-ACQ.mat\"]\n",
    "if True:\n",
    "    for fname in fnames:\n",
    "        # nout=0 means that the function will not return anything.\n",
    "        # data.mat columns\n",
    "        #1,2 encoder\n",
    "        #3   lap detector\n",
    "        #4   galvos\n",
    "        octave.feval(\"process_wheel.m\", fname, nout=0)\n",
    "        session_part = re.search(\"S[0-9]\", fname)[0]\n",
    "        w = wheel.Wheel()\n",
    "        #w.root_dir = os.path.split(\"wheel.npy\")[0]\n",
    "        w.root_dir = os.getcwd()\n",
    "        w.load_track(session_part=session_part)\n",
    "        w.compute_velocity(session_part=session_part)"
   ]
  },
  {
   "cell_type": "code",
   "execution_count": 3,
   "metadata": {},
   "outputs": [
    {
     "name": "stdout",
     "output_type": "stream",
     "text": [
      "S1: (12300000, 1)\n",
      "---------------------------------\n",
      "S1: (12300000, 1)\n",
      "---------------------------------\n",
      "S1: (37160,)\n",
      "---------------------------------\n",
      "S1: (37160,)\n",
      "S2: (12300000, 1)\n",
      "---------------------------------\n",
      "S2: (12300000, 1)\n",
      "---------------------------------\n",
      "S2: (37160,)\n",
      "---------------------------------\n",
      "S2: (37160,)\n",
      "S3: (12300000, 1)\n",
      "---------------------------------\n",
      "S3: (12300000, 1)\n",
      "---------------------------------\n",
      "S3: (37160,)\n",
      "---------------------------------\n",
      "S3: (37160,)\n"
     ]
    }
   ],
   "source": [
    "# transform? m\n",
    "import numpy as np\n",
    "wheels = {} \n",
    "galvos = {} \n",
    "triggers = {} \n",
    "velocities = {} \n",
    "for session_part in [\"S1\", \"S2\", \"S3\"]:\n",
    "    w = np.load(f\"{session_part}_wheel.npy\")\n",
    "    print(f\"{session_part}: {w.shape}\")\n",
    "    wheels[session_part] = w\n",
    "    print(\"---------------------------------\")\n",
    "    galvo = np.load(f\"{session_part}_2p_galvo_trigger.npy\")\n",
    "    print(f\"{session_part}: {galvo.shape}\")\n",
    "    galvos[session_part] = galvo\n",
    "    print(\"---------------------------------\")\n",
    "    trigger = np.load(f\"{session_part}_triggers.npy\")\n",
    "    print(f\"{session_part}: {trigger.shape}\")\n",
    "    triggers[session_part] = trigger\n",
    "    print(\"---------------------------------\")\n",
    "    velocity = np.load(f\"{session_part}_velocity.npy\")\n",
    "    print(f\"{session_part}: {velocity.shape}\")\n",
    "    velocities[session_part] = velocity\n",
    "    "
   ]
  }
 ],
 "metadata": {
  "kernelspec": {
   "display_name": "Python 3",
   "language": "python",
   "name": "python3"
  },
  "language_info": {
   "codemirror_mode": {
    "name": "ipython",
    "version": 3
   },
   "file_extension": ".py",
   "mimetype": "text/x-python",
   "name": "python",
   "nbconvert_exporter": "python",
   "pygments_lexer": "ipython3",
   "version": "3.8.16"
  }
 },
 "nbformat": 4,
 "nbformat_minor": 2
}
