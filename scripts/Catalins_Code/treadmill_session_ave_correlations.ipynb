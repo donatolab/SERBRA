{
 "cells": [
  {
   "cell_type": "code",
   "execution_count": 1,
   "metadata": {},
   "outputs": [
    {
     "data": {
      "application/javascript": [
       "IPython.notebook.set_autosave_interval(180000)"
      ]
     },
     "metadata": {},
     "output_type": "display_data"
    },
    {
     "name": "stdout",
     "output_type": "stream",
     "text": [
      "Autosaving every 180 seconds\n"
     ]
    },
    {
     "name": "stderr",
     "output_type": "stream",
     "text": [
      "<ipython-input-1-d5290c1c5694>:13: DeprecationWarning: Importing display from IPython.core.display is deprecated since IPython 7.14, please import from IPython display\n",
      "  from IPython.core.display import display, HTML\n"
     ]
    },
    {
     "data": {
      "text/html": [
       "<style>.container { width:100% !important; }</style>"
      ],
      "text/plain": [
       "<IPython.core.display.HTML object>"
      ]
     },
     "metadata": {},
     "output_type": "display_data"
    }
   ],
   "source": [
    "import matplotlib\n",
    "matplotlib.use('qtagg')\n",
    "#%matplotlib tk\n",
    "%autosave 180\n",
    "%load_ext autoreload\n",
    "%autoreload 2\n",
    "\n",
    "import nest_asyncio\n",
    "%config Completer.use_jedi = False\n",
    "\n",
    "#\n",
    "import matplotlib.pyplot as plt\n",
    "from IPython.core.display import display, HTML\n",
    "display(HTML(\"<style>.container { width:100% !important; }</style>\"))\n",
    "\n",
    "#\n",
    "import sys\n",
    "\n",
    "import matplotlib.pyplot as plt\n",
    "import numpy as np\n",
    "import networkx as nx\n",
    "\n",
    "#from utils_steffen import *\n",
    "from tqdm import trange, tqdm\n",
    "\n",
    "#\n",
    "import sys, os\n",
    "module_path = os.path.abspath(os.path.join('..'))\n",
    "sys.path.append(module_path)\n",
    "\n",
    "from utils.treadmill import treadmill\n"
   ]
  },
  {
   "cell_type": "code",
   "execution_count": 3,
   "metadata": {
    "tags": []
   },
   "outputs": [
    {
     "name": "stdout",
     "output_type": "stream",
     "text": [
      "Segment order:  ['A', 'B', \"A'\"]\n",
      "raw ca:  (1027, 92900)\n",
      "   Data binned using  5  frame bins, final size:   (7431,)\n",
      "   Data binned using  5  frame bins, final size:   (7431,)\n",
      "   Data binned using  5  frame bins, final size:   (3715,)\n",
      "   Data binned using  5  frame bins, final size:   (3715,)\n",
      "   Data binned using  5  frame bins, final size:   (7431,)\n",
      "   Data binned using  5  frame bins, final size:   (7431,)\n",
      "total # segments pos_tracks:  3\n",
      "\n",
      "pos track:  [0 0 0 ... 6 6 6] (7431,)  , # unique vals:  (180,)\n",
      "idx track:  [    2     7    12 ... 37142 37147 37152] (7431,)\n",
      "/media/cat/4TB/donato/steffen/DON-004366/20210228/suite2p/plane0/mat/DON-004366_20210228_TRD-2P_S1-ACQ_eval.mat\n",
      "fname ca:  /media/cat/4TB/donato/steffen/DON-004366/20210228/suite2p/plane0/binarized_traces/F_upphase.npy\n",
      "ca shape:  (1027, 92900)\n",
      "sement order:  ['A', 'B', \"A'\"]\n"
     ]
    },
    {
     "name": "stderr",
     "output_type": "stream",
     "text": [
      "100%|██████████| 1027/1027 [00:02<00:00, 484.40it/s]\n"
     ]
    },
    {
     "name": "stdout",
     "output_type": "stream",
     "text": [
      "maxes:  (1027,) [  5  11   7 ...   0   3 169]\n",
      "1.0 0.0\n",
      "DONE...\n",
      "\n",
      "pos track:  [ 30  31  32 ... 179 179 179] (3715,)  , # unique vals:  (180,)\n",
      "idx track:  [37162 37167 37172 ... 55722 55727 55732] (3715,)\n",
      "/media/cat/4TB/donato/steffen/DON-004366/20210228/suite2p/plane0/mat/DON-004366_20210228_TRD-2P_S2-ACQ_eval.mat\n",
      "fname ca:  /media/cat/4TB/donato/steffen/DON-004366/20210228/suite2p/plane0/binarized_traces/F_upphase.npy\n",
      "ca shape:  (1027, 92900)\n",
      "sement order:  ['A', 'B', \"A'\"]\n"
     ]
    },
    {
     "name": "stderr",
     "output_type": "stream",
     "text": [
      "100%|██████████| 1027/1027 [00:01<00:00, 945.95it/s]\n"
     ]
    },
    {
     "name": "stdout",
     "output_type": "stream",
     "text": [
      "maxes:  (1027,) [ 8  8  8 ...  0 56  7]\n",
      "1.0 0.0\n",
      "DONE...\n",
      "\n",
      "pos track:  [  0   0   0 ... 140 144 148] (7431,)  , # unique vals:  (180,)\n",
      "idx track:  [55742 55747 55752 ... 92882 92887 92892] (7431,)\n",
      "/media/cat/4TB/donato/steffen/DON-004366/20210228/suite2p/plane0/mat/DON-004366_20210228_TRD-2P_S3-ACQ_eval.mat\n",
      "fname ca:  /media/cat/4TB/donato/steffen/DON-004366/20210228/suite2p/plane0/binarized_traces/F_upphase.npy\n",
      "ca shape:  (1027, 92900)\n",
      "sement order:  ['A', 'B', \"A'\"]\n"
     ]
    },
    {
     "name": "stderr",
     "output_type": "stream",
     "text": [
      "100%|██████████| 1027/1027 [00:02<00:00, 479.86it/s]"
     ]
    },
    {
     "name": "stdout",
     "output_type": "stream",
     "text": [
      "maxes:  (1027,) [121  11   8 ...   5 172 172]\n",
      "1.0 0.0\n",
      "DONE...\n"
     ]
    },
    {
     "name": "stderr",
     "output_type": "stream",
     "text": [
      "\n"
     ]
    }
   ],
   "source": [
    "###################################################\n",
    "######## 2D/3D PLOTS: PCA VS. ... ###########\n",
    "###################################################\n",
    "\n",
    "#\n",
    "experiment_id = 0      # the default mouse is 4366; and has 3 sessions: 20210228, 20210301, 20210303\n",
    "session_ids = [0,1,2]\n",
    "session_names = [\"A\",\"Blank\",\"A'\"]\n",
    "up_phase = True\n",
    "reorder = False  # doesn't do anything now; imgs is NOT ordered by defaults\n",
    "\n",
    "#\n",
    "tr = treadmill.Treadmill(experiment_id, \n",
    "                         session_ids,\n",
    "                         up_phase,\n",
    "                         reorder,\n",
    "                         session_names)\n",
    "\n",
    "#\n",
    "tr.show_cell_session_averages()\n"
   ]
  },
  {
   "cell_type": "code",
   "execution_count": 4,
   "metadata": {},
   "outputs": [
    {
     "name": "stdout",
     "output_type": "stream",
     "text": [
      "3 7430\n",
      "# moving times:  (5353,)\n",
      "rate maps:  (1027, 180)\n",
      "3 7430\n",
      "# moving times:  (3189,)\n",
      "rate maps:  (1027, 180)\n",
      "3 7430\n",
      "# moving times:  (4707,)\n",
      "rate maps:  (1027, 180)\n"
     ]
    }
   ],
   "source": [
    "###################################################   \n",
    "################ COMPUTE RATE MAPS ################\n",
    "###################################################\n",
    "\n",
    "#   \n",
    "tr.reorder_for_vis=True\n",
    "tr.normalize = False    # can't normalize for spatial information!!\n",
    "tr.min_vel = 2  #\n",
    "tr.session_ids = [0,1,2]\n",
    "tr.compute_rate_maps()\n",
    "\n",
    "#\n",
    "\n"
   ]
  },
  {
   "cell_type": "code",
   "execution_count": 8,
   "metadata": {},
   "outputs": [
    {
     "name": "stdout",
     "output_type": "stream",
     "text": [
      "(1027, 180)\n"
     ]
    }
   ],
   "source": [
    "# show the rate map for 1 cell\n",
    "\n",
    "plt.figure()\n",
    "print (tr.rate_maps[0].shape)\n",
    "plt.plot(tr.rate_maps[0][:1].T/tr.n_frames_in_loc[0][:,None])\n",
    "\n",
    "plt.show(block=False)"
   ]
  },
  {
   "cell_type": "code",
   "execution_count": 9,
   "metadata": {},
   "outputs": [
    {
     "name": "stdout",
     "output_type": "stream",
     "text": [
      "time_map : (5353,)\n"
     ]
    },
    {
     "name": "stderr",
     "output_type": "stream",
     "text": [
      "  0%|          | 4/1027 [00:00<00:29, 34.85it/s]/home/cat/code/donatolab/utils/treadmill/treadmill.py:819: RuntimeWarning: invalid value encountered in double_scalars\n",
      "  selectivity = max_rate / mean_rate\n",
      "/home/cat/code/donatolab/utils/treadmill/treadmill.py:821: RuntimeWarning: invalid value encountered in divide\n",
      "  log_argument = rate_map / mean_rate\n",
      "/home/cat/code/donatolab/utils/treadmill/treadmill.py:336: UserWarning: Warning: converting a masked element to nan.\n",
      "  self.si_rate[session_id, c] = inf_rate\n",
      "/home/cat/code/donatolab/utils/treadmill/treadmill.py:337: UserWarning: Warning: converting a masked element to nan.\n",
      "  self.si[session_id, c] = inf_content\n",
      "/home/cat/code/donatolab/utils/treadmill/treadmill.py:841: RuntimeWarning: invalid value encountered in divide\n",
      "  log_argument = rate_map / mean_rate\n",
      " 80%|███████▉  | 820/1027 [00:22<00:05, 37.61it/s]/home/cat/code/donatolab/utils/treadmill/treadmill.py:841: RuntimeWarning: divide by zero encountered in divide\n",
      "  log_argument = rate_map / mean_rate\n",
      "/home/cat/code/donatolab/utils/treadmill/treadmill.py:846: RuntimeWarning: invalid value encountered in multiply\n",
      "  inf_rate = np.sum(position_PDF * rate_map * np.log2(log_argument))\n",
      "100%|██████████| 1027/1027 [00:27<00:00, 37.00it/s]\n"
     ]
    },
    {
     "name": "stdout",
     "output_type": "stream",
     "text": [
      "time_map : (3189,)\n"
     ]
    },
    {
     "name": "stderr",
     "output_type": "stream",
     "text": [
      "100%|██████████| 1027/1027 [00:22<00:00, 45.09it/s]\n"
     ]
    },
    {
     "name": "stdout",
     "output_type": "stream",
     "text": [
      "time_map : (4707,)\n"
     ]
    },
    {
     "name": "stderr",
     "output_type": "stream",
     "text": [
      "100%|██████████| 1027/1027 [00:26<00:00, 38.90it/s]"
     ]
    },
    {
     "name": "stdout",
     "output_type": "stream",
     "text": [
      "DONE...\n"
     ]
    },
    {
     "name": "stderr",
     "output_type": "stream",
     "text": [
      "\n"
     ]
    }
   ],
   "source": [
    "# COMPUTE SPATIAL INFORMATOIN\n",
    "\n",
    "#\n",
    "tr.n_tests = 500\n",
    "tr.compute_si()\n",
    "        \n",
    "print (\"DONE...\")"
   ]
  },
  {
   "cell_type": "code",
   "execution_count": 15,
   "metadata": {},
   "outputs": [
    {
     "name": "stdout",
     "output_type": "stream",
     "text": [
      "[   1    9   10   15   17   25   29   35   37   38   44   45   51   57\n",
      "   65   66   68   73   75   83   84   85   95   97  100  105  107  111\n",
      "  115  123  127  145  146  156  168  175  176  184  191  198  201  219\n",
      "  224  228  232  236  240  273  276  277  284  288  291  299  300  311\n",
      "  321  322  324  325  328  332  334  337  341  351  352  353  361  375\n",
      "  404  406  409  417  418  420  421  422  428  439  443  444  447  449\n",
      "  453  466  471  489  490  492  499  500  504  512  514  515  523  524\n",
      "  526  531  542  545  550  554  556  564  565  571  573  581  585  588\n",
      "  589  590  591  593  604  608  617  621  625  629  630  635  636  640\n",
      "  645  657  662  664  665  667  671  672  673  679  681  683  695  698\n",
      "  699  703  707  714  720  721  722  742  749  755  765  769  771  784\n",
      "  789  797  811  812  817  820  823  829  830  832  844  845  848  849\n",
      "  851  856  863  864  869  870  874  876  879  880  883  884  885  889\n",
      "  890  896  897  900  901  903  911  916  930  932  934  943  951  953\n",
      "  956  960  963  965  972  976  977  978  981  983  985  986  987  989\n",
      "  991  994  998 1000 1001 1017 1018 1022 1023]\n"
     ]
    }
   ],
   "source": [
    "####################################################################\n",
    "########## COMPUTE ZSCORE HISTOGRAMS AND SHOW SOME EXAMPLES ########\n",
    "####################################################################\n",
    "\n",
    "#\n",
    "tr.std_threshold = 2.5\n",
    "tr.session_id = 0\n",
    "tr.zscore_si_histogram()\n",
    "\n",
    "#\n",
    "tr.show_zscore_examples()\n",
    "\n",
    "# print cell ids greater than threshold:\n",
    "print (tr.cell_ids_above_threshold)\n"
   ]
  },
  {
   "cell_type": "code",
   "execution_count": 12,
   "metadata": {},
   "outputs": [
    {
     "name": "stdout",
     "output_type": "stream",
     "text": [
      "(219,)\n",
      "(219, 180)\n",
      "(219, 180)\n",
      "idx:  [ 0  1  2  3  4  5  6  7  8  9 10 11 12 13 26 27 28 29 30 31 32 33 34 35\n",
      " 36 37 38]\n",
      "[  1   2   3   4   5   6   7   9  10  11  12  13  14  17  19  20  22  24\n",
      "  25  26  28  29  32  33  34  35  37  43  44  47  48  50  55  61  62  63\n",
      "  64  65  67  68  71  72  73  74  75  77  78  82  83  87  90  93 107 115\n",
      " 116 118 119 123 127 133 148 156 159 164 172 179 183 204 211]\n"
     ]
    },
    {
     "name": "stderr",
     "output_type": "stream",
     "text": [
      "/home/cat/.conda/envs/donato/lib/python3.8/site-packages/scipy/stats/_stats_py.py:4427: ConstantInputWarning: An input array is constant; the correlation coefficient is not defined.\n",
      "  warnings.warn(stats.ConstantInputWarning(msg))\n"
     ]
    }
   ],
   "source": [
    "#################################################################\n",
    "############### COMPUTE PAIRWISE CORRELATIONS ###################\n",
    "#################################################################\n",
    "\n",
    "#\n",
    "tr.std_threshold = 2.5\n",
    "tr.session_id = 0\n",
    "\n",
    "#\n",
    "tr.show_rigid_cells_from_correlations()\n",
    "\n"
   ]
  },
  {
   "cell_type": "code",
   "execution_count": 13,
   "metadata": {},
   "outputs": [
    {
     "name": "stdout",
     "output_type": "stream",
     "text": [
      "# of cells selected:  (219,)\n",
      "# of cells with canges:  (36,)\n",
      "self.changes:  [  94  -19  -87   87   16  -92 -115   12   72  -17  125  -90   19  -62\n",
      "  -19  157   35    3  107   -4   27   88 -138  114   65  159   65    0\n",
      "   98    7 -138  -15  -26   80   71    1]\n",
      "changes2:  [  94  -19  -87   87   16  -92 -115   12   72  -17  125  -90   19  -62\n",
      "  -19  157   35    3  107   -4   27   88 -138  114   65  159   65    0\n",
      "   98    7 -138  -15  -26   80   71    1]\n"
     ]
    }
   ],
   "source": [
    "#################################################################\n",
    "############### SHOW CIRCULAR PLOTS FOR ALL CELLS ###############\n",
    "#################################################################\n",
    "\n",
    "#\n",
    "tr.std_threshold = 2.5\n",
    "tr.pval_threshold = 0.01\n",
    "tr.corr_threshold = 0.\n",
    "tr.session_ids = [0,2]\n",
    "tr.shuffle = True\n",
    "tr.unscramble = False\n",
    "tr.get_cell_peak_shifts2()\n",
    "\n",
    "#\n",
    "tr.width = 10\n",
    "tr.make_circular_plots2()\n",
    "\n",
    "\n",
    "\n"
   ]
  },
  {
   "cell_type": "code",
   "execution_count": null,
   "metadata": {},
   "outputs": [],
   "source": []
  },
  {
   "cell_type": "code",
   "execution_count": null,
   "metadata": {},
   "outputs": [],
   "source": []
  },
  {
   "cell_type": "code",
   "execution_count": null,
   "metadata": {},
   "outputs": [],
   "source": []
  },
  {
   "cell_type": "code",
   "execution_count": null,
   "metadata": {},
   "outputs": [],
   "source": []
  },
  {
   "cell_type": "code",
   "execution_count": null,
   "metadata": {},
   "outputs": [],
   "source": []
  },
  {
   "cell_type": "code",
   "execution_count": null,
   "metadata": {},
   "outputs": [],
   "source": []
  },
  {
   "cell_type": "code",
   "execution_count": null,
   "metadata": {},
   "outputs": [],
   "source": []
  },
  {
   "cell_type": "code",
   "execution_count": null,
   "metadata": {},
   "outputs": [],
   "source": []
  },
  {
   "cell_type": "code",
   "execution_count": 18,
   "metadata": {},
   "outputs": [],
   "source": [
    "#################################################################\n",
    "############### COMPUTE PAIRWISE CORRELATIONS ###################\n",
    "#################################################################\n",
    "\n",
    "# compute pairwise correlations and look at the distribution\n",
    "from scipy import stats\n",
    "\n",
    "from utils_steffen import compute_pairse_correlation_distributions\n",
    "#\n",
    "#\n",
    "\n",
    "names = [\"A\",\"B\",\"A'\"]\n",
    "pval_thresh = 0.001\n",
    "corr_thresh = 0.0\n",
    "offset = 30             # exclude first 20cm for example\n",
    "unscramble = False      # i\n",
    "scramble_order = np.array([1, 6, 4, 2, 3, 5])-1\n",
    "session_ids = [0,2]\n",
    "\n",
    "#\n",
    "plt.figure()\n",
    "for shuffle in [True, False]:\n",
    "    corrs,_,_,_,_ = compute_pairse_correlation_distributions(imgs,\n",
    "                                                              session_ids,\n",
    "                                                              offset,\n",
    "                                                              unscramble,\n",
    "                                                              pval_thresh,\n",
    "                                                              corr_thresh,\n",
    "                                                              scramble_order,\n",
    "                                                              shuffle)\n",
    "    #\n",
    "    y = np.histogram(corrs, bins = np.arange(-1,1.1,0.05))\n",
    "    plt.plot(y[1][:-1],y[0],label=\"shuffled: \"+str(shuffle))\n",
    "    plt.xlabel(\"pearson cor value\")\n",
    "    plt.ylabel(\"# of cells \")\n",
    "    plt.suptitle(names[session_ids[0]] +  \" vs \" + names[session_ids[1]]+ \" , # cells: \"+str(len(corrs)))\n",
    "    plt.xlim(-1,1)\n",
    "    plt.show(block=False)\n",
    "    \n",
    "    # #\n",
    "    # plot_corr_distributions(corrs, \n",
    "    #                         pval_thresh, \n",
    "    #                         session_ids,\n",
    "    #                         names,\n",
    "    #                        shuffle)\n",
    " \n",
    "plt.legend()\n",
    "plt.show(block=False)"
   ]
  },
  {
   "cell_type": "code",
   "execution_count": 41,
   "metadata": {},
   "outputs": [],
   "source": [
    "#########################################################################\n",
    "############ SHOW SCATTER PLOTS OF PAIR-WISE CORRELATIONS ###############\n",
    "#########################################################################\n",
    "from utils_steffen import show_scatter_plots\n",
    "#\n",
    "names = [\"A\",\"B\",\"A'\"]\n",
    "pval_thresh = 0.01\n",
    "corr_thresh = 0.3\n",
    "offset = 30             # exclude first 20cm for example\n",
    "unscramble = False      # i\n",
    "scramble_order = np.array([1, 6, 4, 2, 3, 5])-1\n",
    "session_ids = [0,1]\n",
    "shuffle=False\n",
    "\n",
    "#\n",
    "show_scatter_plots(imgs, \n",
    "                  session_ids,\n",
    "                  offset,\n",
    "                  unscramble,\n",
    "                  pval_thresh,\n",
    "                  corr_thresh,\n",
    "                  shuffle,\n",
    "                  names)"
   ]
  },
  {
   "cell_type": "code",
   "execution_count": 48,
   "metadata": {},
   "outputs": [],
   "source": [
    "############################################\n",
    "######### CIRCULAR PLOT HISTOGRAMS #########\n",
    "############################################\n",
    "from utils_steffen import make_circular_plots\n",
    "\n",
    "names = [\"A\",\"B\",\"A'\"]\n",
    "pval_thresh = 0.01\n",
    "corr_thresh = 0.5\n",
    "offset = 30             # exclude first 20cm for example\n",
    "unscramble = False      # i\n",
    "scramble_order = np.array([1, 6, 4, 2, 3, 5])-1\n",
    "session_ids = [0,2]\n",
    "shuffle=False\n",
    "\n",
    "### SHUFFLE CONDITION ###\n",
    "if shuffle==True:\n",
    "    changes_array = []\n",
    "    for k in trange(100):\n",
    "        #print (k)\n",
    "        corrs, locs, peaks, changes, stacks = compute_pairse_correlation_distributions(imgs,\n",
    "                                                                              session_ids,\n",
    "                                                                              offset,\n",
    "                                                                              unscramble,\n",
    "                                                                              pval_thresh,\n",
    "                                                                              corr_thresh,\n",
    "                                                                              shuffle)\n",
    "        changes_array.append(changes)\n",
    "    \n",
    "    changes = np.hstack(changes_array)\n",
    "else:\n",
    "    corrs, locs, peaks, changes, stacks = compute_pairse_correlation_distributions(imgs,\n",
    "                                                                      session_ids,\n",
    "                                                                      offset,\n",
    "                                                                      unscramble,\n",
    "                                                                      pval_thresh,\n",
    "                                                                      corr_thresh,\n",
    "                                                                      shuffle)\n",
    "\n",
    "#####\n",
    "width = 10\n",
    "\n",
    "make_circular_plots(changes, peaks, width, names, session_ids,\n",
    "                    corrs,\n",
    "                    pval_thresh,\n",
    "                    corr_thresh)"
   ]
  },
  {
   "cell_type": "code",
   "execution_count": 51,
   "metadata": {},
   "outputs": [
    {
     "name": "stdout",
     "output_type": "stream",
     "text": [
      "(237, 150)\n",
      "maxes:  (79,)\n",
      "[21  9 28 15 33 68 50 60 13 46 43 55 38 36 25 76 32 64 71 75 69 72 61 74\n",
      " 42 44 51 27 78 47 49 63 70 54 77 66 58 34 62 40 56 67 73 59 53 57  5 30\n",
      " 48 65 16 20 31  7  1 35 14 18 52 17 23 45  0 19 12  4 22 24 11 10 26  8\n",
      " 29  6 37  3  2 41 39]\n"
     ]
    }
   ],
   "source": [
    "######################################################\n",
    "############### VISUALIZE MATCHED CELLS ##############\n",
    "######################################################\n",
    "from utils_steffen import visualize_matched_cells\n",
    "\n",
    "#\n",
    "visualize_matched_cells(stacks,offset,\n",
    "                       corr_thresh)"
   ]
  },
  {
   "cell_type": "code",
   "execution_count": 127,
   "metadata": {},
   "outputs": [
    {
     "name": "stdout",
     "output_type": "stream",
     "text": [
      "(1027, 180)\n",
      "(1027,)\n"
     ]
    },
    {
     "name": "stderr",
     "output_type": "stream",
     "text": [
      "<ipython-input-127-4953cabb8987>:10: RuntimeWarning:\n",
      "\n",
      "invalid value encountered in divide\n",
      "\n"
     ]
    }
   ],
   "source": [
    "#####################################################\n",
    "\n",
    "temp = imgs[0]\n",
    "print (temp.shape)\n",
    "\n",
    "maxes = np.max(temp,1)\n",
    "stds = np.std(temp, 1)\n",
    "print (stds.shape)\n",
    "\n",
    "ratio = maxes/stds\n",
    "plt.figure()\n",
    "plt.plot(ratio)\n",
    "plt.show()\n",
    "\n",
    "\n"
   ]
  },
  {
   "cell_type": "code",
   "execution_count": null,
   "metadata": {},
   "outputs": [],
   "source": []
  },
  {
   "cell_type": "code",
   "execution_count": 75,
   "metadata": {},
   "outputs": [
    {
     "data": {
      "application/vnd.plotly.v1+json": {
       "config": {
        "plotlyServerURL": "https://plot.ly"
       },
       "data": [
        {
         "link": {
          "source": [
           0,
           0,
           1,
           3,
           4,
           4,
           1
          ],
          "target": [
           3,
           4,
           4,
           2,
           2,
           5,
           6
          ],
          "value": [
           5,
           6,
           22,
           21,
           6,
           22,
           5
          ]
         },
         "node": {
          "label": [
           "cat",
           "dog",
           "domesticated",
           "female",
           "male",
           "wild",
           "neither"
          ],
          "x": [
           0.00919963201471941,
           0.00919963201471941,
           0.9908003679852806,
           0.5,
           0.5,
           0.9908003679852806,
           0.9908003679852806
          ],
          "y": [
           0.4207818930041153,
           0.8055555555555556,
           0.1944444444444454,
           0.3343621399176959,
           0.7983539094650208,
           0.65843621399177,
           0.963991769547325
          ]
         },
         "type": "sankey"
        }
       ],
       "layout": {
        "autosize": true,
        "template": {
         "data": {
          "bar": [
           {
            "error_x": {
             "color": "#2a3f5f"
            },
            "error_y": {
             "color": "#2a3f5f"
            },
            "marker": {
             "line": {
              "color": "#E5ECF6",
              "width": 0.5
             },
             "pattern": {
              "fillmode": "overlay",
              "size": 10,
              "solidity": 0.2
             }
            },
            "type": "bar"
           }
          ],
          "barpolar": [
           {
            "marker": {
             "line": {
              "color": "#E5ECF6",
              "width": 0.5
             },
             "pattern": {
              "fillmode": "overlay",
              "size": 10,
              "solidity": 0.2
             }
            },
            "type": "barpolar"
           }
          ],
          "carpet": [
           {
            "aaxis": {
             "endlinecolor": "#2a3f5f",
             "gridcolor": "white",
             "linecolor": "white",
             "minorgridcolor": "white",
             "startlinecolor": "#2a3f5f"
            },
            "baxis": {
             "endlinecolor": "#2a3f5f",
             "gridcolor": "white",
             "linecolor": "white",
             "minorgridcolor": "white",
             "startlinecolor": "#2a3f5f"
            },
            "type": "carpet"
           }
          ],
          "choropleth": [
           {
            "colorbar": {
             "outlinewidth": 0,
             "ticks": ""
            },
            "type": "choropleth"
           }
          ],
          "contour": [
           {
            "colorbar": {
             "outlinewidth": 0,
             "ticks": ""
            },
            "colorscale": [
             [
              0,
              "#0d0887"
             ],
             [
              0.1111111111111111,
              "#46039f"
             ],
             [
              0.2222222222222222,
              "#7201a8"
             ],
             [
              0.3333333333333333,
              "#9c179e"
             ],
             [
              0.4444444444444444,
              "#bd3786"
             ],
             [
              0.5555555555555556,
              "#d8576b"
             ],
             [
              0.6666666666666666,
              "#ed7953"
             ],
             [
              0.7777777777777778,
              "#fb9f3a"
             ],
             [
              0.8888888888888888,
              "#fdca26"
             ],
             [
              1,
              "#f0f921"
             ]
            ],
            "type": "contour"
           }
          ],
          "contourcarpet": [
           {
            "colorbar": {
             "outlinewidth": 0,
             "ticks": ""
            },
            "type": "contourcarpet"
           }
          ],
          "heatmap": [
           {
            "colorbar": {
             "outlinewidth": 0,
             "ticks": ""
            },
            "colorscale": [
             [
              0,
              "#0d0887"
             ],
             [
              0.1111111111111111,
              "#46039f"
             ],
             [
              0.2222222222222222,
              "#7201a8"
             ],
             [
              0.3333333333333333,
              "#9c179e"
             ],
             [
              0.4444444444444444,
              "#bd3786"
             ],
             [
              0.5555555555555556,
              "#d8576b"
             ],
             [
              0.6666666666666666,
              "#ed7953"
             ],
             [
              0.7777777777777778,
              "#fb9f3a"
             ],
             [
              0.8888888888888888,
              "#fdca26"
             ],
             [
              1,
              "#f0f921"
             ]
            ],
            "type": "heatmap"
           }
          ],
          "heatmapgl": [
           {
            "colorbar": {
             "outlinewidth": 0,
             "ticks": ""
            },
            "colorscale": [
             [
              0,
              "#0d0887"
             ],
             [
              0.1111111111111111,
              "#46039f"
             ],
             [
              0.2222222222222222,
              "#7201a8"
             ],
             [
              0.3333333333333333,
              "#9c179e"
             ],
             [
              0.4444444444444444,
              "#bd3786"
             ],
             [
              0.5555555555555556,
              "#d8576b"
             ],
             [
              0.6666666666666666,
              "#ed7953"
             ],
             [
              0.7777777777777778,
              "#fb9f3a"
             ],
             [
              0.8888888888888888,
              "#fdca26"
             ],
             [
              1,
              "#f0f921"
             ]
            ],
            "type": "heatmapgl"
           }
          ],
          "histogram": [
           {
            "marker": {
             "pattern": {
              "fillmode": "overlay",
              "size": 10,
              "solidity": 0.2
             }
            },
            "type": "histogram"
           }
          ],
          "histogram2d": [
           {
            "colorbar": {
             "outlinewidth": 0,
             "ticks": ""
            },
            "colorscale": [
             [
              0,
              "#0d0887"
             ],
             [
              0.1111111111111111,
              "#46039f"
             ],
             [
              0.2222222222222222,
              "#7201a8"
             ],
             [
              0.3333333333333333,
              "#9c179e"
             ],
             [
              0.4444444444444444,
              "#bd3786"
             ],
             [
              0.5555555555555556,
              "#d8576b"
             ],
             [
              0.6666666666666666,
              "#ed7953"
             ],
             [
              0.7777777777777778,
              "#fb9f3a"
             ],
             [
              0.8888888888888888,
              "#fdca26"
             ],
             [
              1,
              "#f0f921"
             ]
            ],
            "type": "histogram2d"
           }
          ],
          "histogram2dcontour": [
           {
            "colorbar": {
             "outlinewidth": 0,
             "ticks": ""
            },
            "colorscale": [
             [
              0,
              "#0d0887"
             ],
             [
              0.1111111111111111,
              "#46039f"
             ],
             [
              0.2222222222222222,
              "#7201a8"
             ],
             [
              0.3333333333333333,
              "#9c179e"
             ],
             [
              0.4444444444444444,
              "#bd3786"
             ],
             [
              0.5555555555555556,
              "#d8576b"
             ],
             [
              0.6666666666666666,
              "#ed7953"
             ],
             [
              0.7777777777777778,
              "#fb9f3a"
             ],
             [
              0.8888888888888888,
              "#fdca26"
             ],
             [
              1,
              "#f0f921"
             ]
            ],
            "type": "histogram2dcontour"
           }
          ],
          "mesh3d": [
           {
            "colorbar": {
             "outlinewidth": 0,
             "ticks": ""
            },
            "type": "mesh3d"
           }
          ],
          "parcoords": [
           {
            "line": {
             "colorbar": {
              "outlinewidth": 0,
              "ticks": ""
             }
            },
            "type": "parcoords"
           }
          ],
          "pie": [
           {
            "automargin": true,
            "type": "pie"
           }
          ],
          "scatter": [
           {
            "fillpattern": {
             "fillmode": "overlay",
             "size": 10,
             "solidity": 0.2
            },
            "type": "scatter"
           }
          ],
          "scatter3d": [
           {
            "line": {
             "colorbar": {
              "outlinewidth": 0,
              "ticks": ""
             }
            },
            "marker": {
             "colorbar": {
              "outlinewidth": 0,
              "ticks": ""
             }
            },
            "type": "scatter3d"
           }
          ],
          "scattercarpet": [
           {
            "marker": {
             "colorbar": {
              "outlinewidth": 0,
              "ticks": ""
             }
            },
            "type": "scattercarpet"
           }
          ],
          "scattergeo": [
           {
            "marker": {
             "colorbar": {
              "outlinewidth": 0,
              "ticks": ""
             }
            },
            "type": "scattergeo"
           }
          ],
          "scattergl": [
           {
            "marker": {
             "colorbar": {
              "outlinewidth": 0,
              "ticks": ""
             }
            },
            "type": "scattergl"
           }
          ],
          "scattermapbox": [
           {
            "marker": {
             "colorbar": {
              "outlinewidth": 0,
              "ticks": ""
             }
            },
            "type": "scattermapbox"
           }
          ],
          "scatterpolar": [
           {
            "marker": {
             "colorbar": {
              "outlinewidth": 0,
              "ticks": ""
             }
            },
            "type": "scatterpolar"
           }
          ],
          "scatterpolargl": [
           {
            "marker": {
             "colorbar": {
              "outlinewidth": 0,
              "ticks": ""
             }
            },
            "type": "scatterpolargl"
           }
          ],
          "scatterternary": [
           {
            "marker": {
             "colorbar": {
              "outlinewidth": 0,
              "ticks": ""
             }
            },
            "type": "scatterternary"
           }
          ],
          "surface": [
           {
            "colorbar": {
             "outlinewidth": 0,
             "ticks": ""
            },
            "colorscale": [
             [
              0,
              "#0d0887"
             ],
             [
              0.1111111111111111,
              "#46039f"
             ],
             [
              0.2222222222222222,
              "#7201a8"
             ],
             [
              0.3333333333333333,
              "#9c179e"
             ],
             [
              0.4444444444444444,
              "#bd3786"
             ],
             [
              0.5555555555555556,
              "#d8576b"
             ],
             [
              0.6666666666666666,
              "#ed7953"
             ],
             [
              0.7777777777777778,
              "#fb9f3a"
             ],
             [
              0.8888888888888888,
              "#fdca26"
             ],
             [
              1,
              "#f0f921"
             ]
            ],
            "type": "surface"
           }
          ],
          "table": [
           {
            "cells": {
             "fill": {
              "color": "#EBF0F8"
             },
             "line": {
              "color": "white"
             }
            },
            "header": {
             "fill": {
              "color": "#C8D4E3"
             },
             "line": {
              "color": "white"
             }
            },
            "type": "table"
           }
          ]
         },
         "layout": {
          "annotationdefaults": {
           "arrowcolor": "#2a3f5f",
           "arrowhead": 0,
           "arrowwidth": 1
          },
          "autotypenumbers": "strict",
          "coloraxis": {
           "colorbar": {
            "outlinewidth": 0,
            "ticks": ""
           }
          },
          "colorscale": {
           "diverging": [
            [
             0,
             "#8e0152"
            ],
            [
             0.1,
             "#c51b7d"
            ],
            [
             0.2,
             "#de77ae"
            ],
            [
             0.3,
             "#f1b6da"
            ],
            [
             0.4,
             "#fde0ef"
            ],
            [
             0.5,
             "#f7f7f7"
            ],
            [
             0.6,
             "#e6f5d0"
            ],
            [
             0.7,
             "#b8e186"
            ],
            [
             0.8,
             "#7fbc41"
            ],
            [
             0.9,
             "#4d9221"
            ],
            [
             1,
             "#276419"
            ]
           ],
           "sequential": [
            [
             0,
             "#0d0887"
            ],
            [
             0.1111111111111111,
             "#46039f"
            ],
            [
             0.2222222222222222,
             "#7201a8"
            ],
            [
             0.3333333333333333,
             "#9c179e"
            ],
            [
             0.4444444444444444,
             "#bd3786"
            ],
            [
             0.5555555555555556,
             "#d8576b"
            ],
            [
             0.6666666666666666,
             "#ed7953"
            ],
            [
             0.7777777777777778,
             "#fb9f3a"
            ],
            [
             0.8888888888888888,
             "#fdca26"
            ],
            [
             1,
             "#f0f921"
            ]
           ],
           "sequentialminus": [
            [
             0,
             "#0d0887"
            ],
            [
             0.1111111111111111,
             "#46039f"
            ],
            [
             0.2222222222222222,
             "#7201a8"
            ],
            [
             0.3333333333333333,
             "#9c179e"
            ],
            [
             0.4444444444444444,
             "#bd3786"
            ],
            [
             0.5555555555555556,
             "#d8576b"
            ],
            [
             0.6666666666666666,
             "#ed7953"
            ],
            [
             0.7777777777777778,
             "#fb9f3a"
            ],
            [
             0.8888888888888888,
             "#fdca26"
            ],
            [
             1,
             "#f0f921"
            ]
           ]
          },
          "colorway": [
           "#636efa",
           "#EF553B",
           "#00cc96",
           "#ab63fa",
           "#FFA15A",
           "#19d3f3",
           "#FF6692",
           "#B6E880",
           "#FF97FF",
           "#FECB52"
          ],
          "font": {
           "color": "#2a3f5f"
          },
          "geo": {
           "bgcolor": "white",
           "lakecolor": "white",
           "landcolor": "#E5ECF6",
           "showlakes": true,
           "showland": true,
           "subunitcolor": "white"
          },
          "hoverlabel": {
           "align": "left"
          },
          "hovermode": "closest",
          "mapbox": {
           "style": "light"
          },
          "paper_bgcolor": "white",
          "plot_bgcolor": "#E5ECF6",
          "polar": {
           "angularaxis": {
            "gridcolor": "white",
            "linecolor": "white",
            "ticks": ""
           },
           "bgcolor": "#E5ECF6",
           "radialaxis": {
            "gridcolor": "white",
            "linecolor": "white",
            "ticks": ""
           }
          },
          "scene": {
           "xaxis": {
            "backgroundcolor": "#E5ECF6",
            "gridcolor": "white",
            "gridwidth": 2,
            "linecolor": "white",
            "showbackground": true,
            "ticks": "",
            "zerolinecolor": "white"
           },
           "yaxis": {
            "backgroundcolor": "#E5ECF6",
            "gridcolor": "white",
            "gridwidth": 2,
            "linecolor": "white",
            "showbackground": true,
            "ticks": "",
            "zerolinecolor": "white"
           },
           "zaxis": {
            "backgroundcolor": "#E5ECF6",
            "gridcolor": "white",
            "gridwidth": 2,
            "linecolor": "white",
            "showbackground": true,
            "ticks": "",
            "zerolinecolor": "white"
           }
          },
          "shapedefaults": {
           "line": {
            "color": "#2a3f5f"
           }
          },
          "ternary": {
           "aaxis": {
            "gridcolor": "white",
            "linecolor": "white",
            "ticks": ""
           },
           "baxis": {
            "gridcolor": "white",
            "linecolor": "white",
            "ticks": ""
           },
           "bgcolor": "#E5ECF6",
           "caxis": {
            "gridcolor": "white",
            "linecolor": "white",
            "ticks": ""
           }
          },
          "title": {
           "x": 0.05
          },
          "xaxis": {
           "automargin": true,
           "gridcolor": "white",
           "linecolor": "white",
           "ticks": "",
           "title": {
            "standoff": 15
           },
           "zerolinecolor": "white",
           "zerolinewidth": 2
          },
          "yaxis": {
           "automargin": true,
           "gridcolor": "white",
           "linecolor": "white",
           "ticks": "",
           "title": {
            "standoff": 15
           },
           "zerolinecolor": "white",
           "zerolinewidth": 2
          }
         }
        }
       }
      },
      "image/png": "[encoded data removed]",
      "text/html": [
       "<div>                            <div id=\"dddf69fd-2e2f-471a-99fe-761856066763\" class=\"plotly-graph-div\" style=\"height:525px; width:100%;\"></div>            <script type=\"text/javascript\">                require([\"plotly\"], function(Plotly) {                    window.PLOTLYENV=window.PLOTLYENV || {};                                    if (document.getElementById(\"dddf69fd-2e2f-471a-99fe-761856066763\")) {                    Plotly.newPlot(                        \"dddf69fd-2e2f-471a-99fe-761856066763\",                        [{\"link\":{\"source\":[0,0,1,3,4,4,1],\"target\":[3,4,4,2,2,5,6],\"value\":[5,6,22,21,6,22,5]},\"node\":{\"label\":[\"cat\",\"dog\",\"domesticated\",\"female\",\"male\",\"wild\",\"neither\"]},\"type\":\"sankey\"}],                        {\"template\":{\"data\":{\"histogram2dcontour\":[{\"type\":\"histogram2dcontour\",\"colorbar\":{\"outlinewidth\":0,\"ticks\":\"\"},\"colorscale\":[[0.0,\"#0d0887\"],[0.1111111111111111,\"#46039f\"],[0.2222222222222222,\"#7201a8\"],[0.3333333333333333,\"#9c179e\"],[0.4444444444444444,\"#bd3786\"],[0.5555555555555556,\"#d8576b\"],[0.6666666666666666,\"#ed7953\"],[0.7777777777777778,\"#fb9f3a\"],[0.8888888888888888,\"#fdca26\"],[1.0,\"#f0f921\"]]}],\"choropleth\":[{\"type\":\"choropleth\",\"colorbar\":{\"outlinewidth\":0,\"ticks\":\"\"}}],\"histogram2d\":[{\"type\":\"histogram2d\",\"colorbar\":{\"outlinewidth\":0,\"ticks\":\"\"},\"colorscale\":[[0.0,\"#0d0887\"],[0.1111111111111111,\"#46039f\"],[0.2222222222222222,\"#7201a8\"],[0.3333333333333333,\"#9c179e\"],[0.4444444444444444,\"#bd3786\"],[0.5555555555555556,\"#d8576b\"],[0.6666666666666666,\"#ed7953\"],[0.7777777777777778,\"#fb9f3a\"],[0.8888888888888888,\"#fdca26\"],[1.0,\"#f0f921\"]]}],\"heatmap\":[{\"type\":\"heatmap\",\"colorbar\":{\"outlinewidth\":0,\"ticks\":\"\"},\"colorscale\":[[0.0,\"#0d0887\"],[0.1111111111111111,\"#46039f\"],[0.2222222222222222,\"#7201a8\"],[0.3333333333333333,\"#9c179e\"],[0.4444444444444444,\"#bd3786\"],[0.5555555555555556,\"#d8576b\"],[0.6666666666666666,\"#ed7953\"],[0.7777777777777778,\"#fb9f3a\"],[0.8888888888888888,\"#fdca26\"],[1.0,\"#f0f921\"]]}],\"heatmapgl\":[{\"type\":\"heatmapgl\",\"colorbar\":{\"outlinewidth\":0,\"ticks\":\"\"},\"colorscale\":[[0.0,\"#0d0887\"],[0.1111111111111111,\"#46039f\"],[0.2222222222222222,\"#7201a8\"],[0.3333333333333333,\"#9c179e\"],[0.4444444444444444,\"#bd3786\"],[0.5555555555555556,\"#d8576b\"],[0.6666666666666666,\"#ed7953\"],[0.7777777777777778,\"#fb9f3a\"],[0.8888888888888888,\"#fdca26\"],[1.0,\"#f0f921\"]]}],\"contourcarpet\":[{\"type\":\"contourcarpet\",\"colorbar\":{\"outlinewidth\":0,\"ticks\":\"\"}}],\"contour\":[{\"type\":\"contour\",\"colorbar\":{\"outlinewidth\":0,\"ticks\":\"\"},\"colorscale\":[[0.0,\"#0d0887\"],[0.1111111111111111,\"#46039f\"],[0.2222222222222222,\"#7201a8\"],[0.3333333333333333,\"#9c179e\"],[0.4444444444444444,\"#bd3786\"],[0.5555555555555556,\"#d8576b\"],[0.6666666666666666,\"#ed7953\"],[0.7777777777777778,\"#fb9f3a\"],[0.8888888888888888,\"#fdca26\"],[1.0,\"#f0f921\"]]}],\"surface\":[{\"type\":\"surface\",\"colorbar\":{\"outlinewidth\":0,\"ticks\":\"\"},\"colorscale\":[[0.0,\"#0d0887\"],[0.1111111111111111,\"#46039f\"],[0.2222222222222222,\"#7201a8\"],[0.3333333333333333,\"#9c179e\"],[0.4444444444444444,\"#bd3786\"],[0.5555555555555556,\"#d8576b\"],[0.6666666666666666,\"#ed7953\"],[0.7777777777777778,\"#fb9f3a\"],[0.8888888888888888,\"#fdca26\"],[1.0,\"#f0f921\"]]}],\"mesh3d\":[{\"type\":\"mesh3d\",\"colorbar\":{\"outlinewidth\":0,\"ticks\":\"\"}}],\"scatter\":[{\"fillpattern\":{\"fillmode\":\"overlay\",\"size\":10,\"solidity\":0.2},\"type\":\"scatter\"}],\"parcoords\":[{\"type\":\"parcoords\",\"line\":{\"colorbar\":{\"outlinewidth\":0,\"ticks\":\"\"}}}],\"scatterpolargl\":[{\"type\":\"scatterpolargl\",\"marker\":{\"colorbar\":{\"outlinewidth\":0,\"ticks\":\"\"}}}],\"bar\":[{\"error_x\":{\"color\":\"#2a3f5f\"},\"error_y\":{\"color\":\"#2a3f5f\"},\"marker\":{\"line\":{\"color\":\"#E5ECF6\",\"width\":0.5},\"pattern\":{\"fillmode\":\"overlay\",\"size\":10,\"solidity\":0.2}},\"type\":\"bar\"}],\"scattergeo\":[{\"type\":\"scattergeo\",\"marker\":{\"colorbar\":{\"outlinewidth\":0,\"ticks\":\"\"}}}],\"scatterpolar\":[{\"type\":\"scatterpolar\",\"marker\":{\"colorbar\":{\"outlinewidth\":0,\"ticks\":\"\"}}}],\"histogram\":[{\"marker\":{\"pattern\":{\"fillmode\":\"overlay\",\"size\":10,\"solidity\":0.2}},\"type\":\"histogram\"}],\"scattergl\":[{\"type\":\"scattergl\",\"marker\":{\"colorbar\":{\"outlinewidth\":0,\"ticks\":\"\"}}}],\"scatter3d\":[{\"type\":\"scatter3d\",\"line\":{\"colorbar\":{\"outlinewidth\":0,\"ticks\":\"\"}},\"marker\":{\"colorbar\":{\"outlinewidth\":0,\"ticks\":\"\"}}}],\"scattermapbox\":[{\"type\":\"scattermapbox\",\"marker\":{\"colorbar\":{\"outlinewidth\":0,\"ticks\":\"\"}}}],\"scatterternary\":[{\"type\":\"scatterternary\",\"marker\":{\"colorbar\":{\"outlinewidth\":0,\"ticks\":\"\"}}}],\"scattercarpet\":[{\"type\":\"scattercarpet\",\"marker\":{\"colorbar\":{\"outlinewidth\":0,\"ticks\":\"\"}}}],\"carpet\":[{\"aaxis\":{\"endlinecolor\":\"#2a3f5f\",\"gridcolor\":\"white\",\"linecolor\":\"white\",\"minorgridcolor\":\"white\",\"startlinecolor\":\"#2a3f5f\"},\"baxis\":{\"endlinecolor\":\"#2a3f5f\",\"gridcolor\":\"white\",\"linecolor\":\"white\",\"minorgridcolor\":\"white\",\"startlinecolor\":\"#2a3f5f\"},\"type\":\"carpet\"}],\"table\":[{\"cells\":{\"fill\":{\"color\":\"#EBF0F8\"},\"line\":{\"color\":\"white\"}},\"header\":{\"fill\":{\"color\":\"#C8D4E3\"},\"line\":{\"color\":\"white\"}},\"type\":\"table\"}],\"barpolar\":[{\"marker\":{\"line\":{\"color\":\"#E5ECF6\",\"width\":0.5},\"pattern\":{\"fillmode\":\"overlay\",\"size\":10,\"solidity\":0.2}},\"type\":\"barpolar\"}],\"pie\":[{\"automargin\":true,\"type\":\"pie\"}]},\"layout\":{\"autotypenumbers\":\"strict\",\"colorway\":[\"#636efa\",\"#EF553B\",\"#00cc96\",\"#ab63fa\",\"#FFA15A\",\"#19d3f3\",\"#FF6692\",\"#B6E880\",\"#FF97FF\",\"#FECB52\"],\"font\":{\"color\":\"#2a3f5f\"},\"hovermode\":\"closest\",\"hoverlabel\":{\"align\":\"left\"},\"paper_bgcolor\":\"white\",\"plot_bgcolor\":\"#E5ECF6\",\"polar\":{\"bgcolor\":\"#E5ECF6\",\"angularaxis\":{\"gridcolor\":\"white\",\"linecolor\":\"white\",\"ticks\":\"\"},\"radialaxis\":{\"gridcolor\":\"white\",\"linecolor\":\"white\",\"ticks\":\"\"}},\"ternary\":{\"bgcolor\":\"#E5ECF6\",\"aaxis\":{\"gridcolor\":\"white\",\"linecolor\":\"white\",\"ticks\":\"\"},\"baxis\":{\"gridcolor\":\"white\",\"linecolor\":\"white\",\"ticks\":\"\"},\"caxis\":{\"gridcolor\":\"white\",\"linecolor\":\"white\",\"ticks\":\"\"}},\"coloraxis\":{\"colorbar\":{\"outlinewidth\":0,\"ticks\":\"\"}},\"colorscale\":{\"sequential\":[[0.0,\"#0d0887\"],[0.1111111111111111,\"#46039f\"],[0.2222222222222222,\"#7201a8\"],[0.3333333333333333,\"#9c179e\"],[0.4444444444444444,\"#bd3786\"],[0.5555555555555556,\"#d8576b\"],[0.6666666666666666,\"#ed7953\"],[0.7777777777777778,\"#fb9f3a\"],[0.8888888888888888,\"#fdca26\"],[1.0,\"#f0f921\"]],\"sequentialminus\":[[0.0,\"#0d0887\"],[0.1111111111111111,\"#46039f\"],[0.2222222222222222,\"#7201a8\"],[0.3333333333333333,\"#9c179e\"],[0.4444444444444444,\"#bd3786\"],[0.5555555555555556,\"#d8576b\"],[0.6666666666666666,\"#ed7953\"],[0.7777777777777778,\"#fb9f3a\"],[0.8888888888888888,\"#fdca26\"],[1.0,\"#f0f921\"]],\"diverging\":[[0,\"#8e0152\"],[0.1,\"#c51b7d\"],[0.2,\"#de77ae\"],[0.3,\"#f1b6da\"],[0.4,\"#fde0ef\"],[0.5,\"#f7f7f7\"],[0.6,\"#e6f5d0\"],[0.7,\"#b8e186\"],[0.8,\"#7fbc41\"],[0.9,\"#4d9221\"],[1,\"#276419\"]]},\"xaxis\":{\"gridcolor\":\"white\",\"linecolor\":\"white\",\"ticks\":\"\",\"title\":{\"standoff\":15},\"zerolinecolor\":\"white\",\"automargin\":true,\"zerolinewidth\":2},\"yaxis\":{\"gridcolor\":\"white\",\"linecolor\":\"white\",\"ticks\":\"\",\"title\":{\"standoff\":15},\"zerolinecolor\":\"white\",\"automargin\":true,\"zerolinewidth\":2},\"scene\":{\"xaxis\":{\"backgroundcolor\":\"#E5ECF6\",\"gridcolor\":\"white\",\"linecolor\":\"white\",\"showbackground\":true,\"ticks\":\"\",\"zerolinecolor\":\"white\",\"gridwidth\":2},\"yaxis\":{\"backgroundcolor\":\"#E5ECF6\",\"gridcolor\":\"white\",\"linecolor\":\"white\",\"showbackground\":true,\"ticks\":\"\",\"zerolinecolor\":\"white\",\"gridwidth\":2},\"zaxis\":{\"backgroundcolor\":\"#E5ECF6\",\"gridcolor\":\"white\",\"linecolor\":\"white\",\"showbackground\":true,\"ticks\":\"\",\"zerolinecolor\":\"white\",\"gridwidth\":2}},\"shapedefaults\":{\"line\":{\"color\":\"#2a3f5f\"}},\"annotationdefaults\":{\"arrowcolor\":\"#2a3f5f\",\"arrowhead\":0,\"arrowwidth\":1},\"geo\":{\"bgcolor\":\"white\",\"landcolor\":\"#E5ECF6\",\"subunitcolor\":\"white\",\"showland\":true,\"showlakes\":true,\"lakecolor\":\"white\"},\"title\":{\"x\":0.05},\"mapbox\":{\"style\":\"light\"}}}},                        {\"responsive\": true}                    ).then(function(){\n",
       "                            \n",
       "var gd = document.getElementById('dddf69fd-2e2f-471a-99fe-761856066763');\n",
       "var x = new MutationObserver(function (mutations, observer) {{\n",
       "        var display = window.getComputedStyle(gd).display;\n",
       "        if (!display || display === 'none') {{\n",
       "            console.log([gd, 'removed!']);\n",
       "            Plotly.purge(gd);\n",
       "            observer.disconnect();\n",
       "        }}\n",
       "}});\n",
       "\n",
       "// Listen for the removal of the full notebook cells\n",
       "var notebookContainer = gd.closest('#notebook-container');\n",
       "if (notebookContainer) {{\n",
       "    x.observe(notebookContainer, {childList: true});\n",
       "}}\n",
       "\n",
       "// Listen for the clearing of the current output cell\n",
       "var outputEl = gd.closest('.output');\n",
       "if (outputEl) {{\n",
       "    x.observe(outputEl, {childList: true});\n",
       "}}\n",
       "\n",
       "                        })                };                });            </script>        </div>"
      ]
     },
     "metadata": {},
     "output_type": "display_data"
    }
   ],
   "source": [
    "#####################################################\n",
    "################### SANKEY PLOTS ####################\n",
    "#####################################################\n",
    "from pySankey.sankey import sankey\n",
    "import pandas as pd\n",
    "import plotly.graph_objects as go\n",
    "\n",
    "\n",
    "#\n",
    "label_list = ['cat', 'dog', 'domesticated', 'female', 'male', 'wild', 'neither']\n",
    "# cat: 0, dog: 1, domesticated: 2, female: 3, male: 4, wild: 5\n",
    "source = [0, 0, 1, 3, 4, 4, 1]\n",
    "target = [3, 4, 4, 2, 2, 5, 6]\n",
    "count = [5, 6, 22, 21, 6, 22, 5]\n",
    "\n",
    "fig = go.Figure(data=[\n",
    "    go.Sankey(\n",
    "            node = {\"label\": label_list},\n",
    "            link = {\"source\": source, \n",
    "                    \"target\": target, \n",
    "                    \"value\": count}\n",
    "            )\n",
    "])\n",
    "\n",
    "fig.show()\n"
   ]
  },
  {
   "cell_type": "code",
   "execution_count": 158,
   "metadata": {},
   "outputs": [
    {
     "name": "stdout",
     "output_type": "stream",
     "text": [
      "Ca array:  (1027,)\n",
      "ca stack:  (1027, 180) , vel:  (7430,)\n",
      "rate_map:  [0. 0. 0. 0. 0. 0. 0. 0. 0. 0. 0. 0. 0. 0. 0. 0. 0. 0. 0. 0. 0. 0. 0. 0.\n",
      " 0. 0. 0. 0. 0. 0. 0. 0. 0. 0. 0. 0. 0. 0. 0. 0. 0. 0. 0. 0. 0. 0. 0. 0.\n",
      " 0. 0. 0. 0. 0. 0. 0. 0. 0. 0. 0. 0. 0. 0. 0. 0. 0. 0. 0. 0. 0. 0. 0. 0.\n",
      " 0. 0. 0. 0. 0. 0. 0. 0. 0. 0. 0. 0. 0. 0. 0. 0. 0. 0. 0. 0. 0. 0. 0. 0.\n",
      " 0. 0. 0. 0. 0. 0. 0. 0. 0. 0. 0. 0. 0. 0. 0. 0. 0. 0. 0. 0. 0. 0. 0. 0.\n",
      " 0. 0. 0. 0. 0. 0. 0. 0. 0. 0. 0. 0. 0. 0. 0. 0. 0. 0. 0. 0. 0. 0. 0. 0.\n",
      " 0. 0. 0. 0. 0. 0. 0. 0. 0. 0. 0. 0. 0. 0. 0. 0. 0. 0. 0. 0. 0. 0. 0. 0.\n",
      " 0. 0. 0. 0. 0. 0. 0. 0. 0. 0. 0. 0.]\n",
      "time_map:  [  0   1   2   3   4   5   6   7   8   9  10  11  12  13  14  15  16  17\n",
      "  18  19  20  21  22  23  24  25  26  27  28  29  30  31  32  33  34  35\n",
      "  36  37  38  39  40  41  42  43  44  45  46  47  48  49  50  51  52  53\n",
      "  54  55  56  57  58  59  60  61  62  63  64  65  66  67  68  69  70  71\n",
      "  72  73  74  75  76  77  78  79  80  81  82  83  84  85  86  87  88  89\n",
      "  90  91  92  93  94  95  96  97  98  99 100 101 102 103 104 105 106 107\n",
      " 108 109 110 111 112 113 114 115 116 117 118 119 120 121 122 123 124 125\n",
      " 126 127 128 129 130 131 132 133 134 135 136 137 138 139 140 141 142 143\n",
      " 144 145 146 147 148 149 150 151 152 153 154 155 156 157 158 159 160 161\n",
      " 162 163 164 165 166 167 168 169 170 171 172 173 174 175 176 177 178 179]\n"
     ]
    },
    {
     "name": "stderr",
     "output_type": "stream",
     "text": [
      "<ipython-input-158-f2790c6d28e1>:29: VisibleDeprecationWarning:\n",
      "\n",
      "Creating an ndarray from ragged nested sequences (which is a list-or-tuple of lists-or-tuples-or ndarrays with different lengths or shapes) is deprecated. If you meant to do this, you must specify 'dtype=object' when creating the ndarray.\n",
      "\n",
      "<ipython-input-158-f2790c6d28e1>:19: RuntimeWarning:\n",
      "\n",
      "invalid value encountered in divide\n",
      "\n"
     ]
    }
   ],
   "source": []
  },
  {
   "cell_type": "code",
   "execution_count": 143,
   "metadata": {},
   "outputs": [
    {
     "name": "stdout",
     "output_type": "stream",
     "text": [
      "(1027, 180)\n",
      "(7430,)\n",
      "180\n",
      "[inf inf inf ... inf inf inf]\n"
     ]
    },
    {
     "name": "stderr",
     "output_type": "stream",
     "text": [
      "<ipython-input-143-e6d2dea4de7e>:12: RuntimeWarning:\n",
      "\n",
      "divide by zero encountered in divide\n",
      "\n"
     ]
    }
   ],
   "source": [
    "mAct = imgs[0] #% meam calcium, binned\n",
    "mSpd = vels[0] #% mean speed, binned\n",
    "\n",
    "print (\"[ca]: \", mAct.shape)\n",
    "print (\"speed: \", mSpd.shape)\n",
    "\n",
    "#% nBins = 100;\n",
    "nBins = mAct.shape[1] #size(mAct,2)\n",
    "print (\"n bins: \", nBins)\n",
    "\n",
    "#% occupancy\n",
    "Pocc = 1./mSpd\n",
    "print (Pocc)\n",
    "#Pocc = Pocc/repmat(sum(Pocc,1),[nBins 1])\n",
    "\n",
    "#\n",
    "#% SI\n",
    "for iB = 1:nBins\n",
    "    si(iB,1) = Pocc(iB,1)*\\\n",
    "                    (mAct(iB,1)/nanmean(mAct(:,1),1))*\\\n",
    "                    log2(mAct(iB,1)/nanmean(mAct(:,1),1)) #% Skaggs\n",
    "end\n",
    "\n",
    "# #\n",
    "# si = nansum(si,1);\n",
    "\n",
    "SI=∑pi⋅λiλ⋅logλiλ,\n",
    "\n",
    "\n",
    "\n"
   ]
  },
  {
   "cell_type": "code",
   "execution_count": 129,
   "metadata": {},
   "outputs": [
    {
     "name": "stdout",
     "output_type": "stream",
     "text": [
      "(1027, 180)\n"
     ]
    }
   ],
   "source": [
    "print (imgs[0].shape)"
   ]
  },
  {
   "cell_type": "code",
   "execution_count": null,
   "metadata": {},
   "outputs": [],
   "source": []
  },
  {
   "cell_type": "code",
   "execution_count": null,
   "metadata": {},
   "outputs": [],
   "source": []
  },
  {
   "cell_type": "code",
   "execution_count": null,
   "metadata": {},
   "outputs": [],
   "source": []
  },
  {
   "cell_type": "code",
   "execution_count": null,
   "metadata": {},
   "outputs": [],
   "source": []
  },
  {
   "cell_type": "code",
   "execution_count": null,
   "metadata": {},
   "outputs": [],
   "source": []
  },
  {
   "cell_type": "code",
   "execution_count": null,
   "metadata": {},
   "outputs": [],
   "source": []
  }
 ],
 "metadata": {
  "kernelspec": {
   "display_name": "Python 3",
   "language": "python",
   "name": "python3"
  },
  "language_info": {
   "codemirror_mode": {
    "name": "ipython",
    "version": 3
   },
   "file_extension": ".py",
   "mimetype": "text/x-python",
   "name": "python",
   "nbconvert_exporter": "python",
   "pygments_lexer": "ipython3",
   "version": "3.8.15"
  }
 },
 "nbformat": 4,
 "nbformat_minor": 4
}
