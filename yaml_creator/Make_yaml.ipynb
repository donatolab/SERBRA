{
 "cells": [
  {
   "cell_type": "markdown",
   "id": "4a972aa7",
   "metadata": {},
   "source": [
    "## Init"
   ]
  },
  {
   "cell_type": "code",
   "execution_count": 104,
   "id": "b0467c63-9d3b-4a13-be42-eaadce8c8073",
   "metadata": {},
   "outputs": [
    {
     "data": {
      "application/javascript": "IPython.notebook.set_autosave_interval(180000)"
     },
     "metadata": {},
     "output_type": "display_data"
    },
    {
     "name": "stdout",
     "output_type": "stream",
     "text": [
      "Autosaving every 180 seconds\n",
      "The autoreload extension is already loaded. To reload it, use:\n",
      "  %reload_ext autoreload\n"
     ]
    }
   ],
   "source": [
    "import yaml\n",
    "import os\n",
    "\n",
    "%matplotlib inline\n",
    "#%matplotlib tk\n",
    "%autosave 180\n",
    "%load_ext autoreload\n",
    "%autoreload 2\n",
    "\n",
    "from yaml_creator import *\n",
    "\n",
    "animal_summary_fname = \"animal_summary.yaml\""
   ]
  },
  {
   "cell_type": "markdown",
   "id": "0b4f811b",
   "metadata": {},
   "source": [
    "## Spreadsheet Settings"
   ]
  },
  {
   "cell_type": "markdown",
   "id": "8e564344",
   "metadata": {},
   "source": [
    "### Rigid-Plastic"
   ]
  },
  {
   "cell_type": "code",
   "execution_count": 2,
   "id": "13a49ae6",
   "metadata": {},
   "outputs": [],
   "source": [
    "root_dir = r\"\\\\toucan-all.scicore.unibas.ch\\donafl00-calcium$\\Users\\Sergej\\Steffen_Experiments\\RigidPlastic\"\n",
    "fname = os.path.join(\"IntrinsicImaging_RigidPlastic.xlsx\")\n",
    "sheet_title=\"rigid-plastic\""
   ]
  },
  {
   "cell_type": "markdown",
   "id": "4bec5eea",
   "metadata": {},
   "source": [
    "## Run Code"
   ]
  },
  {
   "cell_type": "code",
   "execution_count": 109,
   "id": "a7a3ef1e",
   "metadata": {},
   "outputs": [],
   "source": [
    "stimulus_definition = { \n",
    "    \"100 cm blank\": {\n",
    "        \"sequence\": [1, 1, 1, 1],\n",
    "        \"dimensions\": [0.25, 0.25, 0.25, 0.25], # in m\n",
    "        \"by\": \"location\",\n",
    "    },\n",
    "    \"100 cm, 4-seg\": {\n",
    "        \"sequence\": [1, 2, 3, 4],\n",
    "        \"dimensions\": [0.25, 0.25, 0.25, 0.25], # in m\n",
    "        \"by\": \"location\",\n",
    "    },\n",
    "    \"180 cm blank\": {\n",
    "        \"sequence\": [1, 1, 1, 1, 1, 1],\n",
    "        \"dimensions\": [0.3, 0.3, 0.3, 0.3, 0.3, 0.3], # in m\n",
    "        \"by\": \"location\",\n",
    "    },\n",
    "    \"180 cm, blank\": {\n",
    "        \"sequence\": [1, 1, 1, 1, 1, 1],\n",
    "        \"dimensions\": [0.3, 0.3, 0.3, 0.3, 0.3, 0.3], # in m\n",
    "        \"by\": \"location\",\n",
    "    },\n",
    "    '180 cm, 6-seg': {\n",
    "        \"sequence\": [1, 2, 3, 4, 5, 6],\n",
    "        \"dimensions\": [0.3, 0.3, 0.3, 0.3, 0.3, 0.3], # in m\n",
    "        \"by\": \"location\",\n",
    "    },\n",
    "    '180 cm, 6-seg (scrambled 1,5,4,2,3,6)': {\n",
    "        \"sequence\": [1, 5, 4, 2, 3, 6],\n",
    "        \"dimensions\": [0.3, 0.3, 0.3, 0.3, 0.3, 0.3], # in m\n",
    "        \"by\": \"location\",\n",
    "    },\n",
    "    '180 cm, 6-seg (unscrambled)': {\n",
    "        \"sequence\": [1, 2, 3, 4, 5, 6],\n",
    "        \"dimensions\": [0.3, 0.3, 0.3, 0.3, 0.3, 0.3], # in m\n",
    "        \"by\": \"location\",\n",
    "    },\n",
    "    '180 cm, 6-seg (1,5,4,2,3,6)': {\n",
    "        \"sequence\": [1, 5, 4, 2, 3, 6],\n",
    "        \"dimensions\": [0.3, 0.3, 0.3, 0.3, 0.3, 0.3], # in m\n",
    "        \"by\": \"location\",\n",
    "    },\n",
    "    '180 cm, 6-seg test landmarks': {\n",
    "        \"sequence\": [1, 2, 3, 4, 5, 6],\n",
    "        \"dimensions\": [0.3, 0.3, 0.3, 0.3, 0.3, 0.3], # in m\n",
    "        \"by\": \"landmarks\",\n",
    "    },\n",
    "    'blank': {\n",
    "        \"sequence\": [1],\n",
    "        \"dimensions\": [1.0], # in m\n",
    "        \"by\": \"location\",\n",
    "    },\n",
    "    'scramble: 164235': {\n",
    "        \"sequence\": [1, 6, 4, 2, 3, 5],\n",
    "        \"dimensions\": [0.3, 0.3, 0.3, 0.3, 0.3, 0.3], # in m\n",
    "        \"by\": \"location\",\n",
    "    },\n",
    "    'reversed': {\n",
    "        \"sequence\": [6, 5, 4, 3, 2, 1],\n",
    "        \"dimensions\": [0.3, 0.3, 0.3, 0.3, 0.3, 0.3], # in m\n",
    "        \"by\": \"location\",\n",
    "    },\n",
    "    'scramble: 154326': {\n",
    "        \"sequence\": [1, 5, 4, 3, 2, 6],\n",
    "        \"dimensions\": [0.3, 0.3, 0.3, 0.3, 0.3, 0.3], # in m\n",
    "        \"by\": \"location\",\n",
    "    },\n",
    "    '180 cm cued': {\n",
    "        \"sequence\": [1, 2, 3, 4, 5, 6],\n",
    "        \"dimensions\": [0.3, 0.3, 0.3, 0.3, 0.3, 0.3], # in m\n",
    "        \"by\": \"cues\",\n",
    "    },\n",
    "    'wheel': {\n",
    "        \"sequence\": [1],\n",
    "        \"dimensions\": [1.0], # in m\n",
    "        \"by\": \"wheel\",\n",
    "    },\n",
    "    '150 cm blank': {\n",
    "        \"sequence\": [1, 1, 1, 1, 1],\n",
    "        \"dimensions\": [0.3, 0.3, 0.3, 0.3, 0.3], # in m\n",
    "        \"by\": \"location\",\n",
    "    },\n",
    "    '150 cm, 6-seg': {\n",
    "        \"sequence\": [1, 2, 3, 4, 5],\n",
    "        \"dimensions\": [0.3, 0.3, 0.3, 0.3, 0.3], # in m\n",
    "        \"by\": \"location\",\n",
    "    },\n",
    "    '150 cm cued': {\n",
    "        \"sequence\": [1, 2, 3, 4, 5],\n",
    "        \"dimensions\": [0.3, 0.3, 0.3, 0.3, 0.3], # in m\n",
    "        \"by\": \"cues\",\n",
    "    },\n",
    "    '150 cm cued reversed': {\n",
    "        \"sequence\": [5, 4, 3, 2, 1],\n",
    "        \"dimensions\": [0.3, 0.3, 0.3, 0.3, 0.3], # in m\n",
    "        \"by\": \"cues\",\n",
    "    },\n",
    "    'cued_A': {\n",
    "        \"sequence\": [1, 2, 3, 4, 5, 6],\n",
    "        \"dimensions\": [0.3, 0.3, 0.3, 0.3, 0.3, 0.3], # in m\n",
    "        \"by\": \"cues\",\n",
    "    },\n",
    "    \"cued_A', scrambled: 1 6 5 4 2 3\": {\n",
    "        \"sequence\": [1, 6, 5, 4, 2, 3],\n",
    "        \"dimensions\": [0.3, 0.3, 0.3, 0.3, 0.3, 0.3], # in m\n",
    "        \"by\": \"cues\",\n",
    "    },\n",
    "    \"cued_A'', scrambled: 1 4 6 2 3 5\": {\n",
    "        \"sequence\": [1, 4, 6, 2, 3, 5],\n",
    "        \"dimensions\": [0.3, 0.3, 0.3, 0.3, 0.3, 0.3], # in m\n",
    "        \"by\": \"cues\",\n",
    "    }\n",
    "}\n"
   ]
  },
  {
   "cell_type": "code",
   "execution_count": 113,
   "id": "ce63d243",
   "metadata": {},
   "outputs": [],
   "source": [
    "fpath = os.path.join(root_dir, fname)\n",
    "animals_spreadsheet = get_animal_dict_from_spreadsheet(fpath, sheet_title, stimulus_definition)"
   ]
  },
  {
   "cell_type": "code",
   "execution_count": 100,
   "id": "61fa9658",
   "metadata": {},
   "outputs": [
    {
     "name": "stdout",
     "output_type": "stream",
     "text": [
      "100 cm blank :    14\n",
      "100 cm, 4-seg :    12\n",
      "180 cm blank :    9\n",
      "150 cm, 6-seg :    1\n",
      "180 cm, 6-seg :    14\n",
      "180 cm, 6-seg (scrambled 1,5,4,2,3,6) :    8\n",
      "180 cm, 6-seg (unscrambled) :    1\n",
      "180 cm, blank :    15\n",
      "180 cm, 6-seg (1,5,4,2,3,6) :    1\n",
      "180 cm, 6-seg test landmarks :    217\n",
      "blank :    226\n",
      "scramble: 164235 :    107\n",
      "reversed :    1\n",
      "scramble: 154326 :    1\n",
      "180 cm cued :    45\n",
      "wheel :    36\n",
      "150 cm blank :    8\n",
      "150 cm cued :    32\n",
      "150 cm cued reversed :    2\n",
      "cued_A :    63\n",
      "cued_A', scrambled: 1 6 5 4 2 3 :    27\n",
      "cued_A'', scrambled: 1 4 6 2 3 5 :    10\n"
     ]
    }
   ],
   "source": [
    "belt_types = {}\n",
    "for animal_id, animal in animals_spreadsheet.items():\n",
    "    for session_id, session in animal[\"sessions\"].items():\n",
    "        for task_id, task in session[\"tasks_infos\"].items():\n",
    "            belt_type = task[\"behavior_metadata\"][\"stimulus\"][\"type\"]\n",
    "            if belt_type not in belt_types:\n",
    "                belt_types[belt_type] = 1\n",
    "            else:\n",
    "                belt_types[belt_type] += 1\n",
    "for i, j in belt_types.items():\n",
    "    print(i, \":   \",j)"
   ]
  },
  {
   "cell_type": "code",
   "execution_count": 122,
   "id": "ab6350b5",
   "metadata": {},
   "outputs": [],
   "source": [
    "additional_metadata = {\n",
    "    \"neural_metadata\": {\n",
    "        \"area\": \"CA3\",\n",
    "        \"preprocessing\": \"suite2p\",\n",
    "        \"processing\": \"cabincorr\",\n",
    "    },\n",
    "    \"behavior_metadata\": {\n",
    "        \"setup\": \"treadmill\",\n",
    "        \"preprocessing\": \"rotary_encoder\", # wheel, cam\n",
    "        #processing: environment # this is currently predefined for all behavior tasks\n",
    "        \"binning_size\": 0.01, # meters #default is 0.01 for 1D and 0.05 for 2D\n",
    "        \"radius\": 0.05, # meters, other wheel is 0.1 #default is 0.05\n",
    "        \"clicks_per_rotation\": 500, #default is 500\n",
    "        \"environment_dimensions\": 1.8, # in meters\n",
    "        \"fps\": 10000,\n",
    "    }\n",
    "}\n",
    "\n",
    "updated_dict = search_update_dict(animals_spreadsheet, additional_metadata)"
   ]
  },
  {
   "cell_type": "code",
   "execution_count": 123,
   "id": "4cffc4f4",
   "metadata": {},
   "outputs": [],
   "source": [
    "create_folders_for_animals(updated_dict, root_dir, save_yamls=True)"
   ]
  },
  {
   "cell_type": "code",
   "execution_count": 121,
   "id": "795ebd4e",
   "metadata": {},
   "outputs": [],
   "source": [
    "#move_mesc_to_session_folder(directory=root_dir)\n",
    "#animals_yaml = get_animals_from_yaml(root_dir)\n",
    "#animals = combine_spreadsheet_and_old_animal_summary_yaml(animals_spreadsheet, animals_yaml)\n",
    "#create \n",
    "\n",
    "class NoAliasDumper(yaml.SafeDumper):\n",
    "    def ignore_aliases(self, data):\n",
    "        return True\n",
    "\n",
    "with open(os.path.join(root_dir, animal_summary_fname), \"w\") as file:\n",
    "        yaml.dump(updated_dict, file, Dumper=NoAliasDumper)"
   ]
  }
 ],
 "metadata": {
  "kernelspec": {
   "display_name": "Python 3 (ipykernel)",
   "language": "python",
   "name": "python3"
  },
  "language_info": {
   "codemirror_mode": {
    "name": "ipython",
    "version": 3
   },
   "file_extension": ".py",
   "mimetype": "text/x-python",
   "name": "python",
   "nbconvert_exporter": "python",
   "pygments_lexer": "ipython3",
   "version": "3.8.0"
  }
 },
 "nbformat": 4,
 "nbformat_minor": 5
}
